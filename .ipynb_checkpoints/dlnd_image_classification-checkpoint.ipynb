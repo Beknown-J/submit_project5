{
 "cells": [
  {
   "cell_type": "markdown",
   "metadata": {
    "collapsed": true
   },
   "source": [
    "# Image Classification\n",
    "In this project, you'll classify images from the [CIFAR-10 dataset](https://www.cs.toronto.edu/~kriz/cifar.html).  The dataset consists of airplanes, dogs, cats, and other objects. You'll preprocess the images, then train a convolutional neural network on all the samples. The images need to be normalized and the labels need to be one-hot encoded.  You'll get to apply what you learned and build a convolutional, max pooling, dropout, and fully connected layers.  At the end, you'll get to see your neural network's predictions on the sample images.\n",
    "## Get the Data\n",
    "Run the following cell to download the [CIFAR-10 dataset for python](https://www.cs.toronto.edu/~kriz/cifar-10-python.tar.gz)."
   ]
  },
  {
   "cell_type": "code",
   "execution_count": 5,
   "metadata": {},
   "outputs": [
    {
     "name": "stderr",
     "output_type": "stream",
     "text": [
      "CIFAR-10 Dataset: 171MB [06:41, 425KB/s]                               \n"
     ]
    },
    {
     "name": "stdout",
     "output_type": "stream",
     "text": [
      "All files found!\n"
     ]
    }
   ],
   "source": [
    "\"\"\"\n",
    "DON'T MODIFY ANYTHING IN THIS CELL THAT IS BELOW THIS LINE\n",
    "\"\"\"\n",
    "from urllib.request import urlretrieve\n",
    "from os.path import isfile, isdir\n",
    "from tqdm import tqdm\n",
    "import problem_unittests as tests\n",
    "import tarfile\n",
    "\n",
    "cifar10_dataset_folder_path = 'cifar-10-batches-py'\n",
    "\n",
    "# Use Floyd's cifar-10 dataset if present\n",
    "floyd_cifar10_location = '/input/cifar-10/python.tar.gz'\n",
    "if isfile(floyd_cifar10_location):\n",
    "    tar_gz_path = floyd_cifar10_location\n",
    "else:\n",
    "    tar_gz_path = 'cifar-10-python.tar.gz'\n",
    "\n",
    "class DLProgress(tqdm):\n",
    "    last_block = 0\n",
    "\n",
    "    def hook(self, block_num=1, block_size=1, total_size=None):\n",
    "        self.total = total_size\n",
    "        self.update((block_num - self.last_block) * block_size)\n",
    "        self.last_block = block_num\n",
    "\n",
    "if not isfile(tar_gz_path):\n",
    "    with DLProgress(unit='B', unit_scale=True, miniters=1, desc='CIFAR-10 Dataset') as pbar:\n",
    "        urlretrieve(\n",
    "            'https://www.cs.toronto.edu/~kriz/cifar-10-python.tar.gz',\n",
    "            tar_gz_path,\n",
    "            pbar.hook)\n",
    "\n",
    "if not isdir(cifar10_dataset_folder_path):\n",
    "    with tarfile.open(tar_gz_path) as tar:\n",
    "        tar.extractall()\n",
    "        tar.close()\n",
    "\n",
    "\n",
    "tests.test_folder_path(cifar10_dataset_folder_path)"
   ]
  },
  {
   "cell_type": "markdown",
   "metadata": {},
   "source": [
    "## Explore the Data\n",
    "The dataset is broken into batches to prevent your machine from running out of memory.  The CIFAR-10 dataset consists of 5 batches, named `data_batch_1`, `data_batch_2`, etc.. Each batch contains the labels and images that are one of the following:\n",
    "* airplane\n",
    "* automobile\n",
    "* bird\n",
    "* cat\n",
    "* deer\n",
    "* dog\n",
    "* frog\n",
    "* horse\n",
    "* ship\n",
    "* truck\n",
    "\n",
    "Understanding a dataset is part of making predictions on the data.  Play around with the code cell below by changing the `batch_id` and `sample_id`. The `batch_id` is the id for a batch (1-5). The `sample_id` is the id for a image and label pair in the batch.\n",
    "\n",
    "Ask yourself \"What are all possible labels?\", \"What is the range of values for the image data?\", \"Are the labels in order or random?\".  Answers to questions like these will help you preprocess the data and end up with better predictions."
   ]
  },
  {
   "cell_type": "code",
   "execution_count": 6,
   "metadata": {},
   "outputs": [
    {
     "name": "stdout",
     "output_type": "stream",
     "text": [
      "\n",
      "Stats of batch 4:\n",
      "Samples: 10000\n",
      "Label Counts: {0: 1003, 1: 963, 2: 1041, 3: 976, 4: 1004, 5: 1021, 6: 1004, 7: 981, 8: 1024, 9: 983}\n",
      "First 20 Labels: [0, 6, 0, 2, 7, 2, 1, 2, 4, 1, 5, 6, 6, 3, 1, 3, 5, 5, 8, 1]\n",
      "\n",
      "Example of Image 166:\n",
      "Image - Min Value: 3 Max Value: 243\n",
      "Image - Shape: (32, 32, 3)\n",
      "Label - Label Id: 1 Name: automobile\n"
     ]
    },
    {
     "data": {
      "image/png": "[encoded data removed]",
      "text/plain": [
       "<matplotlib.figure.Figure at 0x7fbd024c79b0>"
      ]
     },
     "metadata": {
      "image/png": {
       "height": 250,
       "width": 253
      }
     },
     "output_type": "display_data"
    }
   ],
   "source": [
    "%matplotlib inline\n",
    "%config InlineBackend.figure_format = 'retina'\n",
    "\n",
    "import helper\n",
    "import numpy as np\n",
    "\n",
    "# Explore the dataset\n",
    "batch_id = 4\n",
    "sample_id = 166\n",
    "helper.display_stats(cifar10_dataset_folder_path, batch_id, sample_id)"
   ]
  },
  {
   "cell_type": "markdown",
   "metadata": {},
   "source": [
    "## Implement Preprocess Functions\n",
    "### Normalize\n",
    "In the cell below, implement the `normalize` function to take in image data, `x`, and return it as a normalized Numpy array. The values should be in the range of 0 to 1, inclusive.  The return object should be the same shape as `x`."
   ]
  },
  {
   "cell_type": "code",
   "execution_count": 7,
   "metadata": {},
   "outputs": [
    {
     "name": "stdout",
     "output_type": "stream",
     "text": [
      "Tests Passed\n"
     ]
    }
   ],
   "source": [
    "def normalize(x):\n",
    "    \"\"\"\n",
    "    Normalize a list of sample image data in the range of 0 to 1\n",
    "    : x: List of image data.  The image shape is (32, 32, 3)\n",
    "    : return: Numpy array of normalize data\n",
    "    \"\"\"\n",
    "    # TODO: Implement Function\n",
    "    min_a = np.min(x)\n",
    "    max_a = np.max(x)\n",
    "    normal_x = 0 + ((x - min_a)*(1 - 0)/(max_a - min_a))\n",
    "    return normal_x\n",
    "\n",
    "\n",
    "\"\"\"\n",
    "DON'T MODIFY ANYTHING IN THIS CELL THAT IS BELOW THIS LINE\n",
    "\"\"\"\n",
    "tests.test_normalize(normalize)"
   ]
  },
  {
   "cell_type": "markdown",
   "metadata": {},
   "source": [
    "### One-hot encode\n",
    "Just like the previous code cell, you'll be implementing a function for preprocessing.  This time, you'll implement the `one_hot_encode` function. The input, `x`, are a list of labels.  Implement the function to return the list of labels as One-Hot encoded Numpy array.  The possible values for labels are 0 to 9. The one-hot encoding function should return the same encoding for each value between each call to `one_hot_encode`.  Make sure to save the map of encodings outside the function.\n",
    "\n",
    "Hint: Don't reinvent the wheel."
   ]
  },
  {
   "cell_type": "code",
   "execution_count": 8,
   "metadata": {},
   "outputs": [
    {
     "name": "stdout",
     "output_type": "stream",
     "text": [
      "Tests Passed\n"
     ]
    }
   ],
   "source": [
    "from sklearn import preprocessing\n",
    "lb = preprocessing.LabelBinarizer()\n",
    "a = [0,1,2,3,4,5,6,7,8,9]\n",
    "    \n",
    "def one_hot_encode(x):\n",
    "    \"\"\"\n",
    "    One hot encode a list of sample labels. Return a one-hot encoded vector for each label.\n",
    "    : x: List of sample Labels\n",
    "    : return: Numpy array of one-hot encoded labels\n",
    "    \"\"\"\n",
    "    # TODO: Implement Function    \n",
    "    lb.fit(a)\n",
    "    ont_hot_label = lb.transform(x)\n",
    "    return ont_hot_label\n",
    "\n",
    "\n",
    "\"\"\"\n",
    "DON'T MODIFY ANYTHING IN THIS CELL THAT IS BELOW THIS LINE\n",
    "\"\"\"\n",
    "tests.test_one_hot_encode(one_hot_encode)"
   ]
  },
  {
   "cell_type": "markdown",
   "metadata": {},
   "source": [
    "### Randomize Data\n",
    "As you saw from exploring the data above, the order of the samples are randomized.  It doesn't hurt to randomize it again, but you don't need to for this dataset."
   ]
  },
  {
   "cell_type": "markdown",
   "metadata": {},
   "source": [
    "## Preprocess all the data and save it\n",
    "Running the code cell below will preprocess all the CIFAR-10 data and save it to file. The code below also uses 10% of the training data for validation."
   ]
  },
  {
   "cell_type": "code",
   "execution_count": 9,
   "metadata": {
    "collapsed": true
   },
   "outputs": [],
   "source": [
    "\"\"\"\n",
    "DON'T MODIFY ANYTHING IN THIS CELL\n",
    "\"\"\"\n",
    "# Preprocess Training, Validation, and Testing Data\n",
    "helper.preprocess_and_save_data(cifar10_dataset_folder_path, normalize, one_hot_encode)"
   ]
  },
  {
   "cell_type": "markdown",
   "metadata": {},
   "source": [
    "# Check Point\n",
    "This is your first checkpoint.  If you ever decide to come back to this notebook or have to restart the notebook, you can start from here.  The preprocessed data has been saved to disk."
   ]
  },
  {
   "cell_type": "code",
   "execution_count": 10,
   "metadata": {
    "collapsed": true
   },
   "outputs": [],
   "source": [
    "\"\"\"\n",
    "DON'T MODIFY ANYTHING IN THIS CELL\n",
    "\"\"\"\n",
    "import pickle\n",
    "import problem_unittests as tests\n",
    "import helper\n",
    "\n",
    "# Load the Preprocessed Validation data\n",
    "valid_features, valid_labels = pickle.load(open('preprocess_validation.p', mode='rb'))"
   ]
  },
  {
   "cell_type": "markdown",
   "metadata": {},
   "source": [
    "## Build the network\n",
    "For the neural network, you'll build each layer into a function.  Most of the code you've seen has been outside of functions. To test your code more thoroughly, we require that you put each layer in a function.  This allows us to give you better feedback and test for simple mistakes using our unittests before you submit your project.\n",
    "\n",
    ">**Note:** If you're finding it hard to dedicate enough time for this course each week, we've provided a small shortcut to this part of the project. In the next couple of problems, you'll have the option to use classes from the [TensorFlow Layers](https://www.tensorflow.org/api_docs/python/tf/layers) or [TensorFlow Layers (contrib)](https://www.tensorflow.org/api_guides/python/contrib.layers) packages to build each layer, except the layers you build in the \"Convolutional and Max Pooling Layer\" section.  TF Layers is similar to Keras's and TFLearn's abstraction to layers, so it's easy to pickup.\n",
    "\n",
    ">However, if you would like to get the most out of this course, try to solve all the problems _without_ using anything from the TF Layers packages. You **can** still use classes from other packages that happen to have the same name as ones you find in TF Layers! For example, instead of using the TF Layers version of the `conv2d` class, [tf.layers.conv2d](https://www.tensorflow.org/api_docs/python/tf/layers/conv2d), you would want to use the TF Neural Network version of `conv2d`, [tf.nn.conv2d](https://www.tensorflow.org/api_docs/python/tf/nn/conv2d). \n",
    "\n",
    "Let's begin!\n",
    "\n",
    "### Input\n",
    "The neural network needs to read the image data, one-hot encoded labels, and dropout keep probability. Implement the following functions\n",
    "* Implement `neural_net_image_input`\n",
    " * Return a [TF Placeholder](https://www.tensorflow.org/api_docs/python/tf/placeholder)\n",
    " * Set the shape using `image_shape` with batch size set to `None`.\n",
    " * Name the TensorFlow placeholder \"x\" using the TensorFlow `name` parameter in the [TF Placeholder](https://www.tensorflow.org/api_docs/python/tf/placeholder).\n",
    "* Implement `neural_net_label_input`\n",
    " * Return a [TF Placeholder](https://www.tensorflow.org/api_docs/python/tf/placeholder)\n",
    " * Set the shape using `n_classes` with batch size set to `None`.\n",
    " * Name the TensorFlow placeholder \"y\" using the TensorFlow `name` parameter in the [TF Placeholder](https://www.tensorflow.org/api_docs/python/tf/placeholder).\n",
    "* Implement `neural_net_keep_prob_input`\n",
    " * Return a [TF Placeholder](https://www.tensorflow.org/api_docs/python/tf/placeholder) for dropout keep probability.\n",
    " * Name the TensorFlow placeholder \"keep_prob\" using the TensorFlow `name` parameter in the [TF Placeholder](https://www.tensorflow.org/api_docs/python/tf/placeholder).\n",
    "\n",
    "These names will be used at the end of the project to load your saved model.\n",
    "\n",
    "Note: `None` for shapes in TensorFlow allow for a dynamic size."
   ]
  },
  {
   "cell_type": "code",
   "execution_count": 11,
   "metadata": {},
   "outputs": [
    {
     "name": "stdout",
     "output_type": "stream",
     "text": [
      "Image Input Tests Passed.\n",
      "Label Input Tests Passed.\n",
      "Keep Prob Tests Passed.\n"
     ]
    }
   ],
   "source": [
    "import tensorflow as tf\n",
    "\n",
    "def neural_net_image_input(image_shape):\n",
    "    \"\"\"\n",
    "    Return a Tensor for a bach of image input\n",
    "    : image_shape: Shape of the images\n",
    "    : return: Tensor for image input.\n",
    "    \"\"\"\n",
    "    # TODO: Implement Function\n",
    "    shapes = (None, ) + image_shape\n",
    "    input_data = tf.placeholder(tf.float32, shapes, name = 'x')\n",
    "    return input_data\n",
    "\n",
    "\n",
    "def neural_net_label_input(n_classes):\n",
    "    \"\"\"\n",
    "    Return a Tensor for a batch of label input\n",
    "    : n_classes: Number of classes\n",
    "    : return: Tensor for label input.\n",
    "    \"\"\"\n",
    "    # TODO: Implement Function\n",
    "    shapes = (None, n_classes)\n",
    "    label_data = tf.placeholder(tf.float32, shapes, name = 'y')\n",
    "    return label_data\n",
    "\n",
    "\n",
    "def neural_net_keep_prob_input():\n",
    "    \"\"\"\n",
    "    Return a Tensor for keep probability\n",
    "    : return: Tensor for keep probability.\n",
    "    \"\"\"\n",
    "    # TODO: Implement Function\n",
    "    keep_prob = tf.placeholder(tf.float32, name = 'keep_prob')\n",
    "    return keep_prob\n",
    "\n",
    "\n",
    "\"\"\"\n",
    "DON'T MODIFY ANYTHING IN THIS CELL THAT IS BELOW THIS LINE\n",
    "\"\"\"\n",
    "tf.reset_default_graph()\n",
    "tests.test_nn_image_inputs(neural_net_image_input)\n",
    "tests.test_nn_label_inputs(neural_net_label_input)\n",
    "tests.test_nn_keep_prob_inputs(neural_net_keep_prob_input)"
   ]
  },
  {
   "cell_type": "markdown",
   "metadata": {},
   "source": [
    "### Convolution and Max Pooling Layer\n",
    "Convolution layers have a lot of success with images. For this code cell, you should implement the function `conv2d_maxpool` to apply convolution then max pooling:\n",
    "* Create the weight and bias using `conv_ksize`, `conv_num_outputs` and the shape of `x_tensor`.\n",
    "* Apply a convolution to `x_tensor` using weight and `conv_strides`.\n",
    " * We recommend you use same padding, but you're welcome to use any padding.\n",
    "* Add bias\n",
    "* Add a nonlinear activation to the convolution.\n",
    "* Apply Max Pooling using `pool_ksize` and `pool_strides`.\n",
    " * We recommend you use same padding, but you're welcome to use any padding.\n",
    "\n",
    "**Note:** You **can't** use [TensorFlow Layers](https://www.tensorflow.org/api_docs/python/tf/layers) or [TensorFlow Layers (contrib)](https://www.tensorflow.org/api_guides/python/contrib.layers) for **this** layer, but you can still use TensorFlow's [Neural Network](https://www.tensorflow.org/api_docs/python/tf/nn) package. You may still use the shortcut option for all the **other** layers."
   ]
  },
  {
   "cell_type": "code",
   "execution_count": 12,
   "metadata": {},
   "outputs": [
    {
     "name": "stdout",
     "output_type": "stream",
     "text": [
      "Tests Passed\n"
     ]
    }
   ],
   "source": [
    "def conv2d_maxpool(x_tensor, conv_num_outputs, conv_ksize, conv_strides, pool_ksize, pool_strides):\n",
    "    \"\"\"\n",
    "    Apply convolution then max pooling to x_tensor\n",
    "    :param x_tensor: TensorFlow Tensor\n",
    "    :param conv_num_outputs: Number of outputs for the convolutional layer\n",
    "    :param conv_ksize: kernal size 2-D Tuple for the convolutional layer\n",
    "    :param conv_strides: Stride 2-D Tuple for convolution\n",
    "    :param pool_ksize: kernal size 2-D Tuple for pool\n",
    "    :param pool_strides: Stride 2-D Tuple for pool\n",
    "    : return: A tensor that represents convolution and max pooling of x_tensor\n",
    "    \"\"\"\n",
    "    # TODO: Implement Function\n",
    "    weights = tf.Variable(tf.truncated_normal([conv_ksize[0], conv_ksize[1], x_tensor.shape.as_list()[3], conv_num_outputs]))\n",
    "    bias = tf.Variable(tf.zeros([conv_num_outputs]))\n",
    "    \n",
    "    conv_layer = tf.nn.conv2d(x_tensor, weights, strides = [1, conv_strides[0], conv_strides[1], 1], padding = 'SAME')\n",
    "    conv_layer = tf.nn.bias_add(conv_layer, bias)\n",
    "    \n",
    "    conv_layer_out = tf.nn.relu(conv_layer)\n",
    "    \n",
    "    max_pool = tf.nn.max_pool(conv_layer_out, ksize = [1, pool_ksize[0], pool_ksize[1], 1], strides = [1, pool_strides[0], pool_strides[1], 1], padding = 'VALID')\n",
    "    return max_pool \n",
    "\n",
    "\n",
    "\"\"\"\n",
    "DON'T MODIFY ANYTHING IN THIS CELL THAT IS BELOW THIS LINE\n",
    "\"\"\"\n",
    "tests.test_con_pool(conv2d_maxpool)"
   ]
  },
  {
   "cell_type": "markdown",
   "metadata": {},
   "source": [
    "### Flatten Layer\n",
    "Implement the `flatten` function to change the dimension of `x_tensor` from a 4-D tensor to a 2-D tensor.  The output should be the shape (*Batch Size*, *Flattened Image Size*). Shortcut option: you can use classes from the [TensorFlow Layers](https://www.tensorflow.org/api_docs/python/tf/layers) or [TensorFlow Layers (contrib)](https://www.tensorflow.org/api_guides/python/contrib.layers) packages for this layer. For more of a challenge, only use other TensorFlow packages."
   ]
  },
  {
   "cell_type": "code",
   "execution_count": 13,
   "metadata": {},
   "outputs": [
    {
     "name": "stdout",
     "output_type": "stream",
     "text": [
      "Tests Passed\n"
     ]
    }
   ],
   "source": [
    "def flatten(x_tensor):\n",
    "    \"\"\"\n",
    "    Flatten x_tensor to (Batch Size, Flattened Image Size)\n",
    "    : x_tensor: A tensor of size (Batch Size, ...), where ... are the image dimensions.\n",
    "    : return: A tensor of size (Batch Size, Flattened Image Size).\n",
    "    \"\"\"\n",
    "    # TODO: Implement Function\n",
    "    shape_list = x_tensor.shape.as_list()\n",
    "    len_shape = shape_list[1]*shape_list[2]*shape_list[3]\n",
    "    x_reshape = tf.reshape(x_tensor, [-1, len_shape])\n",
    "    return x_reshape\n",
    "\n",
    "\n",
    "\"\"\"\n",
    "DON'T MODIFY ANYTHING IN THIS CELL THAT IS BELOW THIS LINE\n",
    "\"\"\"\n",
    "tests.test_flatten(flatten)"
   ]
  },
  {
   "cell_type": "markdown",
   "metadata": {},
   "source": [
    "### Fully-Connected Layer\n",
    "Implement the `fully_conn` function to apply a fully connected layer to `x_tensor` with the shape (*Batch Size*, *num_outputs*). Shortcut option: you can use classes from the [TensorFlow Layers](https://www.tensorflow.org/api_docs/python/tf/layers) or [TensorFlow Layers (contrib)](https://www.tensorflow.org/api_guides/python/contrib.layers) packages for this layer. For more of a challenge, only use other TensorFlow packages."
   ]
  },
  {
   "cell_type": "code",
   "execution_count": 14,
   "metadata": {},
   "outputs": [
    {
     "name": "stdout",
     "output_type": "stream",
     "text": [
      "Tests Passed\n"
     ]
    }
   ],
   "source": [
    "def fully_conn(x_tensor, num_outputs):\n",
    "    \"\"\"\n",
    "    Apply a fully connected layer to x_tensor using weight and bias\n",
    "    : x_tensor: A 2-D tensor where the first dimension is batch size.\n",
    "    : num_outputs: The number of output that the new tensor should be.\n",
    "    : return: A 2-D tensor where the second dimension is num_outputs.\n",
    "    \"\"\"\n",
    "    # TODO: Implement Function\n",
    "    fc_weight = tf.Variable(tf.truncated_normal([x_tensor.shape.as_list()[1], num_outputs]))\n",
    "    fc_biaes = tf.Variable(tf.zeros([num_outputs]))\n",
    "    fc = tf.add(tf.matmul(x_tensor, fc_weight), fc_biaes)\n",
    "    fc = tf.nn.relu(fc)\n",
    "    return fc\n",
    "\n",
    "\n",
    "\"\"\"\n",
    "DON'T MODIFY ANYTHING IN THIS CELL THAT IS BELOW THIS LINE\n",
    "\"\"\"\n",
    "tests.test_fully_conn(fully_conn)"
   ]
  },
  {
   "cell_type": "markdown",
   "metadata": {},
   "source": [
    "### Output Layer\n",
    "Implement the `output` function to apply a fully connected layer to `x_tensor` with the shape (*Batch Size*, *num_outputs*). Shortcut option: you can use classes from the [TensorFlow Layers](https://www.tensorflow.org/api_docs/python/tf/layers) or [TensorFlow Layers (contrib)](https://www.tensorflow.org/api_guides/python/contrib.layers) packages for this layer. For more of a challenge, only use other TensorFlow packages.\n",
    "\n",
    "**Note:** Activation, softmax, or cross entropy should **not** be applied to this."
   ]
  },
  {
   "cell_type": "code",
   "execution_count": 15,
   "metadata": {},
   "outputs": [
    {
     "name": "stdout",
     "output_type": "stream",
     "text": [
      "Tests Passed\n"
     ]
    }
   ],
   "source": [
    "def output(x_tensor, num_outputs):\n",
    "    \"\"\"\n",
    "    Apply a output layer to x_tensor using weight and bias\n",
    "    : x_tensor: A 2-D tensor where the first dimension is batch size.\n",
    "    : num_outputs: The number of output that the new tensor should be.\n",
    "    : return: A 2-D tensor where the second dimension is num_outputs.\n",
    "    \"\"\"\n",
    "    # TODO: Implement Function\n",
    "    weight_out = tf.Variable(tf.truncated_normal([x_tensor.shape.as_list()[1], num_outputs]))\n",
    "    biaes = tf.Variable(tf.zeros(num_outputs))\n",
    "    out = tf.add(tf.matmul(x_tensor, weight_out), biaes)\n",
    "    return out\n",
    "\n",
    "\n",
    "\"\"\"\n",
    "DON'T MODIFY ANYTHING IN THIS CELL THAT IS BELOW THIS LINE\n",
    "\"\"\"\n",
    "tests.test_output(output)"
   ]
  },
  {
   "cell_type": "markdown",
   "metadata": {},
   "source": [
    "### Create Convolutional Model\n",
    "Implement the function `conv_net` to create a convolutional neural network model. The function takes in a batch of images, `x`, and outputs logits.  Use the layers you created above to create this model:\n",
    "\n",
    "* Apply 1, 2, or 3 Convolution and Max Pool layers\n",
    "* Apply a Flatten Layer\n",
    "* Apply 1, 2, or 3 Fully Connected Layers\n",
    "* Apply an Output Layer\n",
    "* Return the output\n",
    "* Apply [TensorFlow's Dropout](https://www.tensorflow.org/api_docs/python/tf/nn/dropout) to one or more layers in the model using `keep_prob`. "
   ]
  },
  {
   "cell_type": "code",
   "execution_count": 16,
   "metadata": {},
   "outputs": [
    {
     "name": "stdout",
     "output_type": "stream",
     "text": [
      "Neural Network Built!\n"
     ]
    }
   ],
   "source": [
    "def conv_net(x, keep_prob):\n",
    "    \"\"\"\n",
    "    Create a convolutional neural network model\n",
    "    : x: Placeholder tensor that holds image data.\n",
    "    : keep_prob: Placeholder tensor that hold dropout keep probability.\n",
    "    : return: Tensor that represents logits\n",
    "    \"\"\"\n",
    "    # TODO: Apply 1, 2, or 3 Convolution and Max Pool layers\n",
    "    #    Play around with different number of outputs, kernel size and stride\n",
    "    # Function Definition from Above:\n",
    "    conv_ksize = [3, 3]\n",
    "    conv_strides = [1, 1]\n",
    "    conv_lay1 = conv2d_maxpool(x_tensor=x, conv_num_outputs=32, conv_ksize=conv_ksize, conv_strides=conv_strides, pool_ksize=(3,3), pool_strides=(1,1))\n",
    "    conv_lay1 = conv2d_maxpool(x_tensor=conv_lay1, conv_num_outputs=64, conv_ksize=conv_ksize, conv_strides=conv_strides, pool_ksize=(3,3), pool_strides=(1,1))\n",
    "    conv_lay1 = conv2d_maxpool(x_tensor=conv_lay1, conv_num_outputs=128, conv_ksize=conv_ksize, conv_strides=conv_strides, pool_ksize=(3,3), pool_strides=(1,1))\n",
    "\n",
    "    # TODO: Apply a Flatten Layer\n",
    "    # Function Definition from Above:\n",
    "    flat_layer = flatten(conv_lay1)\n",
    "    \n",
    "\n",
    "    # TODO: Apply 1, 2, or 3 Fully Connected Layers\n",
    "    #    Play around with different number of outputs\n",
    "    # Function Definition from Above:\n",
    "    fc_layer1 = fully_conn(x_tensor = flat_layer, num_outputs = 256)\n",
    "    fc_layer2 = fully_conn(x_tensor = fc_layer1, num_outputs = 1024)\n",
    "    \n",
    "    fc_layer = tf.nn.dropout(fc_layer2, keep_prob)\n",
    "    \n",
    "    # TODO: Apply an Output Layer\n",
    "    #    Set this to the number of classes\n",
    "    # Function Definition from Above:\n",
    "    out = output(x_tensor=fc_layer, num_outputs=10)\n",
    "    \n",
    "    \n",
    "    # TODO: return output\n",
    "    return out\n",
    "\n",
    "\n",
    "\"\"\"\n",
    "DON'T MODIFY ANYTHING IN THIS CELL THAT IS BELOW THIS LINE\n",
    "\"\"\"\n",
    "\n",
    "##############################\n",
    "## Build the Neural Network ##\n",
    "##############################\n",
    "\n",
    "# Remove previous weights, bias, inputs, etc..\n",
    "tf.reset_default_graph()\n",
    "\n",
    "# Inputs\n",
    "x = neural_net_image_input((32, 32, 3))\n",
    "y = neural_net_label_input(10)\n",
    "keep_prob = neural_net_keep_prob_input()\n",
    "\n",
    "# Model\n",
    "logits = conv_net(x, keep_prob)\n",
    "\n",
    "# Name logits Tensor, so that is can be loaded from disk after training\n",
    "logits = tf.identity(logits, name='logits')\n",
    "\n",
    "# Loss and Optimizer\n",
    "cost = tf.reduce_mean(tf.nn.softmax_cross_entropy_with_logits(logits=logits, labels=y))\n",
    "optimizer = tf.train.AdamOptimizer().minimize(cost)\n",
    "\n",
    "# Accuracy\n",
    "correct_pred = tf.equal(tf.argmax(logits, 1), tf.argmax(y, 1))\n",
    "accuracy = tf.reduce_mean(tf.cast(correct_pred, tf.float32), name='accuracy')\n",
    "\n",
    "tests.test_conv_net(conv_net)"
   ]
  },
  {
   "cell_type": "markdown",
   "metadata": {},
   "source": [
    "## Train the Neural Network\n",
    "### Single Optimization\n",
    "Implement the function `train_neural_network` to do a single optimization.  The optimization should use `optimizer` to optimize in `session` with a `feed_dict` of the following:\n",
    "* `x` for image input\n",
    "* `y` for labels\n",
    "* `keep_prob` for keep probability for dropout\n",
    "\n",
    "This function will be called for each batch, so `tf.global_variables_initializer()` has already been called.\n",
    "\n",
    "Note: Nothing needs to be returned. This function is only optimizing the neural network."
   ]
  },
  {
   "cell_type": "code",
   "execution_count": 17,
   "metadata": {},
   "outputs": [
    {
     "name": "stdout",
     "output_type": "stream",
     "text": [
      "Tests Passed\n"
     ]
    }
   ],
   "source": [
    "def train_neural_network(session, optimizer, keep_probability, feature_batch, label_batch):\n",
    "    \"\"\"\n",
    "    Optimize the session on a batch of images and labels\n",
    "    : session: Current TensorFlow session\n",
    "    : optimizer: TensorFlow optimizer function\n",
    "    : keep_probability: keep probability\n",
    "    : feature_batch: Batch of Numpy image data\n",
    "    : label_batch: Batch of Numpy label data\n",
    "    \"\"\"\n",
    "    # TODO: Implement Function\n",
    "    session.run(optimizer, feed_dict = {x:feature_batch, y:label_batch, keep_prob:keep_probability})\n",
    "    pass\n",
    "\n",
    "\n",
    "\"\"\"\n",
    "DON'T MODIFY ANYTHING IN THIS CELL THAT IS BELOW THIS LINE\n",
    "\"\"\"\n",
    "tests.test_train_nn(train_neural_network)"
   ]
  },
  {
   "cell_type": "markdown",
   "metadata": {},
   "source": [
    "### Show Stats\n",
    "Implement the function `print_stats` to print loss and validation accuracy.  Use the global variables `valid_features` and `valid_labels` to calculate validation accuracy.  Use a keep probability of `1.0` to calculate the loss and validation accuracy."
   ]
  },
  {
   "cell_type": "code",
   "execution_count": 18,
   "metadata": {
    "collapsed": true
   },
   "outputs": [],
   "source": [
    "def print_stats(session, feature_batch, label_batch, cost, accuracy):\n",
    "    \"\"\"\n",
    "    Print information about loss and validation accuracy\n",
    "    : session: Current TensorFlow session\n",
    "    : feature_batch: Batch of Numpy image data\n",
    "    : label_batch: Batch of Numpy label data\n",
    "    : cost: TensorFlow cost function\n",
    "    : accuracy: TensorFlow accuracy function\n",
    "    \"\"\"\n",
    "    # TODO: Implement Function\n",
    "    loss = session.run(cost, feed_dict = {x: feature_batch, y: label_batch, keep_prob: 1.})\n",
    "    valid_acc = session.run(accuracy, feed_dict = {x : valid_features, y : valid_labels, keep_prob:1.})\n",
    "    print('The loss is: {}. The valid accuracy is: {}'.format(loss, valid_acc))\n",
    "    pass"
   ]
  },
  {
   "cell_type": "markdown",
   "metadata": {},
   "source": [
    "### Hyperparameters\n",
    "Tune the following parameters:\n",
    "* Set `epochs` to the number of iterations until the network stops learning or start overfitting\n",
    "* Set `batch_size` to the highest number that your machine has memory for.  Most people set them to common sizes of memory:\n",
    " * 64\n",
    " * 128\n",
    " * 256\n",
    " * ...\n",
    "* Set `keep_probability` to the probability of keeping a node using dropout"
   ]
  },
  {
   "cell_type": "code",
   "execution_count": 19,
   "metadata": {
    "collapsed": true
   },
   "outputs": [],
   "source": [
    "# TODO: Tune Parameters\n",
    "epochs = 45\n",
    "batch_size = 64\n",
    "keep_probability = 0.5"
   ]
  },
  {
   "cell_type": "markdown",
   "metadata": {},
   "source": [
    "### Train on a Single CIFAR-10 Batch\n",
    "Instead of training the neural network on all the CIFAR-10 batches of data, let's use a single batch. This should save time while you iterate on the model to get a better accuracy.  Once the final validation accuracy is 50% or greater, run the model on all the data in the next section."
   ]
  },
  {
   "cell_type": "code",
   "execution_count": null,
   "metadata": {},
   "outputs": [
    {
     "name": "stdout",
     "output_type": "stream",
     "text": [
      "Checking the Training on a Single Batch...\n",
      "Epoch  1, CIFAR-10 Batch 1:  The loss is: 205633952.0. The valid accuracy is: 0.3075999915599823\n",
      "Epoch  2, CIFAR-10 Batch 1:  The loss is: 118127648.0. The valid accuracy is: 0.37219998240470886\n",
      "Epoch  3, CIFAR-10 Batch 1:  The loss is: 90428984.0. The valid accuracy is: 0.36340001225471497\n",
      "Epoch  4, CIFAR-10 Batch 1:  The loss is: 46992076.0. The valid accuracy is: 0.4049999713897705\n",
      "Epoch  5, CIFAR-10 Batch 1:  The loss is: 43430200.0. The valid accuracy is: 0.3996000289916992\n",
      "Epoch  6, CIFAR-10 Batch 1:  The loss is: 23663776.0. The valid accuracy is: 0.43219998478889465\n",
      "Epoch  7, CIFAR-10 Batch 1:  The loss is: 18158882.0. The valid accuracy is: 0.43619996309280396\n",
      "Epoch  8, CIFAR-10 Batch 1:  The loss is: 15212128.0. The valid accuracy is: 0.42800000309944153\n",
      "Epoch  9, CIFAR-10 Batch 1:  The loss is: 8477110.0. The valid accuracy is: 0.4265999495983124\n",
      "Epoch 10, CIFAR-10 Batch 1:  The loss is: 9272588.0. The valid accuracy is: 0.42459994554519653\n",
      "Epoch 11, CIFAR-10 Batch 1:  The loss is: 8128209.5. The valid accuracy is: 0.4081999659538269\n",
      "Epoch 12, CIFAR-10 Batch 1:  The loss is: 4638252.0. The valid accuracy is: 0.45819997787475586\n",
      "Epoch 13, CIFAR-10 Batch 1:  The loss is: 3366274.0. The valid accuracy is: 0.46619999408721924\n",
      "Epoch 14, CIFAR-10 Batch 1:  The loss is: 1900708.375. The valid accuracy is: 0.46959999203681946\n",
      "Epoch 15, CIFAR-10 Batch 1:  The loss is: 107450.25. The valid accuracy is: 0.468999981880188\n",
      "Epoch 16, CIFAR-10 Batch 1:  The loss is: 1358897.375. The valid accuracy is: 0.4519999623298645\n",
      "Epoch 17, CIFAR-10 Batch 1:  The loss is: 793339.875. The valid accuracy is: 0.4617999792098999\n",
      "Epoch 18, CIFAR-10 Batch 1:  The loss is: 711369.25. The valid accuracy is: 0.4591999650001526\n",
      "Epoch 19, CIFAR-10 Batch 1:  The loss is: 388292.0. The valid accuracy is: 0.46939995884895325\n",
      "Epoch 20, CIFAR-10 Batch 1:  The loss is: 396036.4375. The valid accuracy is: 0.47499996423721313\n",
      "Epoch 21, CIFAR-10 Batch 1:  The loss is: 0.0. The valid accuracy is: 0.4813999831676483\n",
      "Epoch 22, CIFAR-10 Batch 1:  The loss is: 0.0. The valid accuracy is: 0.4797999858856201\n",
      "Epoch 23, CIFAR-10 Batch 1:  The loss is: 0.0. The valid accuracy is: 0.4737999439239502\n",
      "Epoch 24, CIFAR-10 Batch 1:  The loss is: 1470851.375. The valid accuracy is: 0.4795999228954315\n",
      "Epoch 25, CIFAR-10 Batch 1:  The loss is: 74051.6015625. The valid accuracy is: 0.4777999520301819\n",
      "Epoch 26, CIFAR-10 Batch 1:  The loss is: 472140.75. The valid accuracy is: 0.4723999500274658\n",
      "Epoch 27, CIFAR-10 Batch 1:  The loss is: 1141025.625. The valid accuracy is: 0.4793999493122101\n",
      "Epoch 28, CIFAR-10 Batch 1:  The loss is: 403795.21875. The valid accuracy is: 0.4851999878883362\n",
      "Epoch 29, CIFAR-10 Batch 1:  The loss is: 0.0. The valid accuracy is: 0.48499995470046997\n",
      "Epoch 30, CIFAR-10 Batch 1:  The loss is: 0.0. The valid accuracy is: 0.46239998936653137\n",
      "Epoch 31, CIFAR-10 Batch 1:  The loss is: 151543.5. The valid accuracy is: 0.4697999656200409\n",
      "Epoch 32, CIFAR-10 Batch 1:  The loss is: 257415.515625. The valid accuracy is: 0.49039992690086365\n",
      "Epoch 33, CIFAR-10 Batch 1:  The loss is: 0.0. The valid accuracy is: 0.48239997029304504\n",
      "Epoch 34, CIFAR-10 Batch 1:  The loss is: 0.0. The valid accuracy is: 0.5007999539375305\n",
      "Epoch 35, CIFAR-10 Batch 1:  The loss is: 0.0. The valid accuracy is: 0.4721999764442444\n",
      "Epoch 36, CIFAR-10 Batch 1:  The loss is: 0.0. The valid accuracy is: 0.48659995198249817\n",
      "Epoch 37, CIFAR-10 Batch 1:  The loss is: 78280.203125. The valid accuracy is: 0.4859999716281891\n",
      "Epoch 38, CIFAR-10 Batch 1:  The loss is: 531986.4375. The valid accuracy is: 0.49199995398521423\n",
      "Epoch 39, CIFAR-10 Batch 1:  The loss is: 0.0. The valid accuracy is: 0.49639996886253357\n",
      "Epoch 40, CIFAR-10 Batch 1:  The loss is: 0.0. The valid accuracy is: 0.49219995737075806\n",
      "Epoch 41, CIFAR-10 Batch 1:  The loss is: 0.0. The valid accuracy is: 0.5085999965667725\n",
      "Epoch 42, CIFAR-10 Batch 1:  The loss is: 0.0. The valid accuracy is: 0.4787999391555786\n",
      "Epoch 43, CIFAR-10 Batch 1:  The loss is: 0.0. The valid accuracy is: 0.47819995880126953\n",
      "Epoch 44, CIFAR-10 Batch 1:  The loss is: 0.0. The valid accuracy is: 0.48639994859695435\n",
      "Epoch 45, CIFAR-10 Batch 1:  The loss is: 0.0. The valid accuracy is: 0.4827999770641327\n",
      "Epoch 46, CIFAR-10 Batch 1:  The loss is: 182145.203125. The valid accuracy is: 0.4975999593734741\n",
      "Epoch 47, CIFAR-10 Batch 1:  The loss is: 0.0. The valid accuracy is: 0.5061999559402466\n",
      "Epoch 48, CIFAR-10 Batch 1:  The loss is: 31587.599609375. The valid accuracy is: 0.4965999722480774\n",
      "Epoch 49, CIFAR-10 Batch 1:  The loss is: 0.0. The valid accuracy is: 0.5113999843597412\n",
      "Epoch 50, CIFAR-10 Batch 1:  The loss is: 0.0. The valid accuracy is: 0.49299997091293335\n",
      "Epoch 51, CIFAR-10 Batch 1:  The loss is: 0.0. The valid accuracy is: 0.5085999369621277\n",
      "Epoch 52, CIFAR-10 Batch 1:  The loss is: 248447.203125. The valid accuracy is: 0.49219992756843567\n",
      "Epoch 53, CIFAR-10 Batch 1:  The loss is: 0.0. The valid accuracy is: 0.498399943113327\n",
      "Epoch 54, CIFAR-10 Batch 1:  The loss is: 0.0. The valid accuracy is: 0.5189999341964722\n",
      "Epoch 55, CIFAR-10 Batch 1:  The loss is: 0.0. The valid accuracy is: 0.49099990725517273\n",
      "Epoch 56, CIFAR-10 Batch 1:  The loss is: 92146.8046875. The valid accuracy is: 0.5001999139785767\n",
      "Epoch 57, CIFAR-10 Batch 1:  The loss is: 0.0. The valid accuracy is: 0.5107999444007874\n",
      "Epoch 58, CIFAR-10 Batch 1:  The loss is: 0.0. The valid accuracy is: 0.5037999153137207\n",
      "Epoch 59, CIFAR-10 Batch 1:  The loss is: 0.0. The valid accuracy is: 0.5109999775886536\n",
      "Epoch 60, CIFAR-10 Batch 1:  The loss is: 0.0. The valid accuracy is: 0.5273999571800232\n",
      "Epoch 61, CIFAR-10 Batch 1:  The loss is: 0.0. The valid accuracy is: 0.5267999768257141\n",
      "Epoch 62, CIFAR-10 Batch 1:  The loss is: 0.0. The valid accuracy is: 0.5201998949050903\n",
      "Epoch 63, CIFAR-10 Batch 1:  The loss is: 0.0. The valid accuracy is: 0.5281999707221985\n",
      "Epoch 64, CIFAR-10 Batch 1:  The loss is: 3343.85009765625. The valid accuracy is: 0.5037999749183655\n",
      "Epoch 65, CIFAR-10 Batch 1:  The loss is: 0.0. The valid accuracy is: 0.5081999897956848\n",
      "Epoch 66, CIFAR-10 Batch 1:  The loss is: 0.0. The valid accuracy is: 0.5197999477386475\n"
     ]
    }
   ],
   "source": [
    "\"\"\"\n",
    "DON'T MODIFY ANYTHING IN THIS CELL\n",
    "\"\"\"\n",
    "print('Checking the Training on a Single Batch...')\n",
    "with tf.Session() as sess:\n",
    "    # Initializing the variables\n",
    "    sess.run(tf.global_variables_initializer())\n",
    "    \n",
    "    # Training cycle\n",
    "    for epoch in range(epochs):\n",
    "        batch_i = 1\n",
    "        for batch_features, batch_labels in helper.load_preprocess_training_batch(batch_i, batch_size):\n",
    "            train_neural_network(sess, optimizer, keep_probability, batch_features, batch_labels)\n",
    "        print('Epoch {:>2}, CIFAR-10 Batch {}:  '.format(epoch + 1, batch_i), end='')\n",
    "        print_stats(sess, batch_features, batch_labels, cost, accuracy)"
   ]
  },
  {
   "cell_type": "markdown",
   "metadata": {},
   "source": [
    "### Fully Train the Model\n",
    "Now that you got a good accuracy with a single CIFAR-10 batch, try it with all five batches."
   ]
  },
  {
   "cell_type": "code",
   "execution_count": null,
   "metadata": {},
   "outputs": [
    {
     "name": "stdout",
     "output_type": "stream",
     "text": [
      "Training...\n",
      "Epoch  1, CIFAR-10 Batch 1:  The loss is: 261799168.0. The valid accuracy is: 0.2945999801158905\n",
      "Epoch  1, CIFAR-10 Batch 2:  The loss is: 153299488.0. The valid accuracy is: 0.3349999785423279\n",
      "Epoch  1, CIFAR-10 Batch 3:  The loss is: 108579344.0. The valid accuracy is: 0.32919999957084656\n",
      "Epoch  1, CIFAR-10 Batch 4:  The loss is: 55470512.0. The valid accuracy is: 0.3755999803543091\n",
      "Epoch  1, CIFAR-10 Batch 5:  The loss is: 52007888.0. The valid accuracy is: 0.37040001153945923\n",
      "Epoch  2, CIFAR-10 Batch 1:  The loss is: 50127680.0. The valid accuracy is: 0.3885999917984009\n",
      "Epoch  2, CIFAR-10 Batch 2:  The loss is: 48949240.0. The valid accuracy is: 0.39239999651908875\n",
      "Epoch  2, CIFAR-10 Batch 3:  The loss is: 50093000.0. The valid accuracy is: 0.376800000667572\n",
      "Epoch  2, CIFAR-10 Batch 4:  The loss is: 19012752.0. The valid accuracy is: 0.3776000142097473\n",
      "Epoch  2, CIFAR-10 Batch 5:  The loss is: 25327972.0. The valid accuracy is: 0.368399977684021\n",
      "Epoch  3, CIFAR-10 Batch 1:  The loss is: 17280328.0. The valid accuracy is: 0.3755999803543091\n",
      "Epoch  3, CIFAR-10 Batch 2:  The loss is: 14323340.0. The valid accuracy is: 0.3707999885082245\n",
      "Epoch  3, CIFAR-10 Batch 3:  The loss is: 9835161.0. The valid accuracy is: 0.36879998445510864\n",
      "Epoch  3, CIFAR-10 Batch 4:  The loss is: 9485427.0. The valid accuracy is: 0.3725999891757965\n",
      "Epoch  3, CIFAR-10 Batch 5:  The loss is: 12088969.0. The valid accuracy is: 0.3567999601364136\n",
      "Epoch  4, CIFAR-10 Batch 1:  The loss is: 8282668.0. The valid accuracy is: 0.37279999256134033\n",
      "Epoch  4, CIFAR-10 Batch 2:  The loss is: 7722506.0. The valid accuracy is: 0.3555999994277954\n",
      "Epoch  4, CIFAR-10 Batch 3:  The loss is: 5771242.0. The valid accuracy is: 0.38339996337890625\n",
      "Epoch  4, CIFAR-10 Batch 4:  The loss is: 5174912.0. The valid accuracy is: 0.37359997630119324\n",
      "Epoch  4, CIFAR-10 Batch 5:  The loss is: 6063614.0. The valid accuracy is: 0.3715999722480774\n",
      "Epoch  5, CIFAR-10 Batch 1:  The loss is: 4792211.0. The valid accuracy is: 0.38919997215270996\n",
      "Epoch  5, CIFAR-10 Batch 2:  The loss is: 4780400.5. The valid accuracy is: 0.36699995398521423\n",
      "Epoch  5, CIFAR-10 Batch 3:  The loss is: 3060549.0. The valid accuracy is: 0.37599998712539673\n",
      "Epoch  5, CIFAR-10 Batch 4:  The loss is: 4280185.0. The valid accuracy is: 0.38199999928474426\n",
      "Epoch  5, CIFAR-10 Batch 5:  The loss is: 3707123.25. The valid accuracy is: 0.38839995861053467\n",
      "Epoch  6, CIFAR-10 Batch 1:  The loss is: 3383124.25. The valid accuracy is: 0.394599974155426\n",
      "Epoch  6, CIFAR-10 Batch 2:  The loss is: 2550711.5. The valid accuracy is: 0.3742000162601471\n",
      "Epoch  6, CIFAR-10 Batch 3:  The loss is: 1881420.625. The valid accuracy is: 0.3933999836444855\n",
      "Epoch  6, CIFAR-10 Batch 4:  The loss is: 2758485.75. The valid accuracy is: 0.3911999464035034\n",
      "Epoch  6, CIFAR-10 Batch 5:  The loss is: 3106039.25. The valid accuracy is: 0.39899998903274536\n",
      "Epoch  7, CIFAR-10 Batch 1:  The loss is: 2010444.5. The valid accuracy is: 0.4103999733924866\n",
      "Epoch  7, CIFAR-10 Batch 2:  The loss is: 1934403.25. The valid accuracy is: 0.3919999897480011\n",
      "Epoch  7, CIFAR-10 Batch 3:  The loss is: 1421235.25. The valid accuracy is: 0.3895999789237976\n",
      "Epoch  7, CIFAR-10 Batch 4:  The loss is: 1733978.625. The valid accuracy is: 0.3763999938964844\n",
      "Epoch  7, CIFAR-10 Batch 5:  The loss is: 2357165.75. The valid accuracy is: 0.3871999680995941\n",
      "Epoch  8, CIFAR-10 Batch 1:  The loss is: 1368734.375. The valid accuracy is: 0.4115999639034271\n",
      "Epoch  8, CIFAR-10 Batch 2:  The loss is: 1584069.625. The valid accuracy is: 0.398999959230423\n",
      "Epoch  8, CIFAR-10 Batch 3:  The loss is: 892270.75. The valid accuracy is: 0.39319998025894165\n",
      "Epoch  8, CIFAR-10 Batch 4:  The loss is: 1564053.25. The valid accuracy is: 0.41600000858306885\n",
      "Epoch  8, CIFAR-10 Batch 5:  The loss is: 1348867.5. The valid accuracy is: 0.40639999508857727\n",
      "Epoch  9, CIFAR-10 Batch 1:  The loss is: 1293685.25. The valid accuracy is: 0.41079995036125183\n",
      "Epoch  9, CIFAR-10 Batch 2:  The loss is: 1198510.25. The valid accuracy is: 0.38419997692108154\n",
      "Epoch  9, CIFAR-10 Batch 3:  The loss is: 587958.5. The valid accuracy is: 0.42219996452331543\n",
      "Epoch  9, CIFAR-10 Batch 4:  The loss is: 1226899.0. The valid accuracy is: 0.41839995980262756\n",
      "Epoch  9, CIFAR-10 Batch 5:  The loss is: 1102474.5. The valid accuracy is: 0.40199998021125793\n",
      "Epoch 10, CIFAR-10 Batch 1:  The loss is: 966988.375. The valid accuracy is: 0.4139999449253082\n",
      "Epoch 10, CIFAR-10 Batch 2:  The loss is: 728793.625. The valid accuracy is: 0.3965999484062195\n",
      "Epoch 10, CIFAR-10 Batch 3:  The loss is: 683261.5. The valid accuracy is: 0.41739994287490845\n",
      "Epoch 10, CIFAR-10 Batch 4:  The loss is: 915398.0625. The valid accuracy is: 0.4245999753475189\n",
      "Epoch 10, CIFAR-10 Batch 5:  The loss is: 1308519.625. The valid accuracy is: 0.39879998564720154\n",
      "Epoch 11, CIFAR-10 Batch 1:  The loss is: 873760.875. The valid accuracy is: 0.4177999496459961\n",
      "Epoch 11, CIFAR-10 Batch 2:  The loss is: 729602.8125. The valid accuracy is: 0.4071999490261078\n",
      "Epoch 11, CIFAR-10 Batch 3:  The loss is: 344408.5625. The valid accuracy is: 0.4137999713420868\n",
      "Epoch 11, CIFAR-10 Batch 4:  The loss is: 941076.625. The valid accuracy is: 0.4179999530315399\n",
      "Epoch 11, CIFAR-10 Batch 5:  The loss is: 762558.25. The valid accuracy is: 0.415800005197525\n",
      "Epoch 12, CIFAR-10 Batch 1:  The loss is: 718893.5. The valid accuracy is: 0.42559999227523804\n",
      "Epoch 12, CIFAR-10 Batch 2:  The loss is: 641045.625. The valid accuracy is: 0.4169999659061432\n",
      "Epoch 12, CIFAR-10 Batch 3:  The loss is: 296424.21875. The valid accuracy is: 0.4253999590873718\n",
      "Epoch 12, CIFAR-10 Batch 4:  The loss is: 798870.9375. The valid accuracy is: 0.41919997334480286\n",
      "Epoch 12, CIFAR-10 Batch 5:  The loss is: 930930.1875. The valid accuracy is: 0.42820000648498535\n",
      "Epoch 13, CIFAR-10 Batch 1:  The loss is: 723554.875. The valid accuracy is: 0.43059998750686646\n",
      "Epoch 13, CIFAR-10 Batch 2:  The loss is: 244568.359375. The valid accuracy is: 0.4009999632835388\n",
      "Epoch 13, CIFAR-10 Batch 3:  The loss is: 294953.34375. The valid accuracy is: 0.4435999393463135\n",
      "Epoch 13, CIFAR-10 Batch 4:  The loss is: 349761.375. The valid accuracy is: 0.4205999970436096\n",
      "Epoch 13, CIFAR-10 Batch 5:  The loss is: 524232.0. The valid accuracy is: 0.43039998412132263\n",
      "Epoch 14, CIFAR-10 Batch 1:  The loss is: 451564.15625. The valid accuracy is: 0.4451999366283417\n",
      "Epoch 14, CIFAR-10 Batch 2:  The loss is: 324127.59375. The valid accuracy is: 0.4025999903678894\n",
      "Epoch 14, CIFAR-10 Batch 3:  The loss is: 130905.21875. The valid accuracy is: 0.4267999529838562\n",
      "Epoch 14, CIFAR-10 Batch 4:  The loss is: 151483.578125. The valid accuracy is: 0.42739996314048767\n",
      "Epoch 14, CIFAR-10 Batch 5:  The loss is: 529811.375. The valid accuracy is: 0.42639997601509094\n",
      "Epoch 15, CIFAR-10 Batch 1:  The loss is: 512645.59375. The valid accuracy is: 0.42820000648498535\n",
      "Epoch 15, CIFAR-10 Batch 2:  The loss is: 244637.5. The valid accuracy is: 0.4301999807357788\n",
      "Epoch 15, CIFAR-10 Batch 3:  The loss is: 207443.0625. The valid accuracy is: 0.4389999806880951\n",
      "Epoch 15, CIFAR-10 Batch 4:  The loss is: 310120.96875. The valid accuracy is: 0.44679996371269226\n",
      "Epoch 15, CIFAR-10 Batch 5:  The loss is: 337565.9375. The valid accuracy is: 0.4519999623298645\n",
      "The loss is: 2931.246826171875. The valid accuracy is: 0.4991999566555023\n",
      "Epoch 39, CIFAR-10 Batch 4:  The loss is: 21601.8671875. The valid accuracy is: 0.4837999939918518\n",
      "Epoch 39, CIFAR-10 Batch 5:  The loss is: 18889.5234375. The valid accuracy is: 0.4771999716758728\n",
      "Epoch 40, CIFAR-10 Batch 1:  The loss is: 27330.19921875. The valid accuracy is: 0.4789999723434448\n",
      "Epoch 40, CIFAR-10 Batch 2:  The loss is: 7408.5146484375. The valid accuracy is: 0.4833999276161194\n",
      "Epoch 40, CIFAR-10 Batch 3:  The loss is: 15855.8515625. The valid accuracy is: 0.49859997630119324\n",
      "Epoch 40, CIFAR-10 Batch 4:  The loss is: 578.7890625. The valid accuracy is: 0.4647999703884125\n",
      "Epoch 40, CIFAR-10 Batch 5:  The loss is: 26879.419921875. The valid accuracy is: 0.47999995946884155\n",
      "Epoch 41, CIFAR-10 Batch 1:  The loss is: 29014.125. The valid accuracy is: 0.5019999742507935\n",
      "Epoch 41, CIFAR-10 Batch 2:  The loss is: 40236.45703125. The valid accuracy is: 0.48499995470046997\n"
     ]
    },
    {
     "name": "stdout",
     "output_type": "stream",
     "text": [
      "Epoch 41, CIFAR-10 Batch 3:  The loss is: 12391.189453125. The valid accuracy is: 0.49199995398521423\n",
      "Epoch 41, CIFAR-10 Batch 4:  The loss is: 12052.0693359375. The valid accuracy is: 0.488599956035614\n",
      "Epoch 41, CIFAR-10 Batch 5:  The loss is: 20010.92578125. The valid accuracy is: 0.4643999934196472\n",
      "Epoch 42, CIFAR-10 Batch 1:  The loss is: 12983.466796875. The valid accuracy is: 0.501599907875061\n",
      "Epoch 42, CIFAR-10 Batch 2:  The loss is: 3566.00732421875. The valid accuracy is: 0.48399996757507324\n",
      "Epoch 42, CIFAR-10 Batch 3:  The loss is: 15162.8544921875. The valid accuracy is: 0.4835999608039856\n",
      "Epoch 42, CIFAR-10 Batch 4:  The loss is: 25949.09375. The valid accuracy is: 0.4675999879837036\n",
      "Epoch 42, CIFAR-10 Batch 5:  The loss is: 26593.125. The valid accuracy is: 0.47179996967315674\n",
      "Epoch 43, CIFAR-10 Batch 1:  The loss is: 23860.146484375. The valid accuracy is: 0.4885999262332916\n",
      "Epoch 43, CIFAR-10 Batch 2:  The loss is: 8182.181640625. The valid accuracy is: 0.49639996886253357\n",
      "Epoch 43, CIFAR-10 Batch 3:  The loss is: 10838.6591796875. The valid accuracy is: 0.47579994797706604\n",
      "Epoch 43, CIFAR-10 Batch 4:  The loss is: 11986.2470703125. The valid accuracy is: 0.5043999552726746\n",
      "Epoch 43, CIFAR-10 Batch 5:  The loss is: 20675.73828125. The valid accuracy is: 0.47239992022514343\n",
      "Epoch 44, CIFAR-10 Batch 1:  The loss is: 16089.7685546875. The valid accuracy is: 0.48739996552467346\n",
      "Epoch 44, CIFAR-10 Batch 2:  The loss is: 11227.044921875. The valid accuracy is: 0.4583999812602997\n",
      "Epoch 44, CIFAR-10 Batch 3:  The loss is: 17571.42578125. The valid accuracy is: 0.5007999539375305\n",
      "Epoch 44, CIFAR-10 Batch 4:  The loss is: 12904.3369140625. The valid accuracy is: 0.4991999864578247\n",
      "Epoch 44, CIFAR-10 Batch 5:  The loss is: 1151.7672119140625. The valid accuracy is: 0.4845999777317047\n",
      "Epoch 45, CIFAR-10 Batch 1:  The loss is: 24451.046875. The valid accuracy is: 0.4907999634742737\n",
      "Epoch 45, CIFAR-10 Batch 2:  The loss is: 7852.8935546875. The valid accuracy is: 0.4907999634742737\n",
      "Epoch 45, CIFAR-10 Batch 3:  The loss is: 7469.37060546875. The valid accuracy is: 0.4943999648094177\n",
      "Epoch 45, CIFAR-10 Batch 4:  The loss is: 8779.75. The valid accuracy is: 0.46299993991851807\n",
      "Epoch 45, CIFAR-10 Batch 5:  The loss is: 12347.9072265625. The valid accuracy is: 0.48399993777275085\n"
     ]
    }
   ],
   "source": [
    "\"\"\"\n",
    "DON'T MODIFY ANYTHING IN THIS CELL\n",
    "\"\"\"\n",
    "save_model_path = './image_classification'\n",
    "\n",
    "print('Training...')\n",
    "with tf.Session() as sess:\n",
    "    # Initializing the variables\n",
    "    sess.run(tf.global_variables_initializer())\n",
    "    \n",
    "    # Training cycle\n",
    "    for epoch in range(epochs):\n",
    "        # Loop over all batches\n",
    "        n_batches = 5\n",
    "        for batch_i in range(1, n_batches + 1):\n",
    "            for batch_features, batch_labels in helper.load_preprocess_training_batch(batch_i, batch_size):\n",
    "                train_neural_network(sess, optimizer, keep_probability, batch_features, batch_labels)\n",
    "            print('Epoch {:>2}, CIFAR-10 Batch {}:  '.format(epoch + 1, batch_i), end='')\n",
    "            print_stats(sess, batch_features, batch_labels, cost, accuracy)\n",
    "            \n",
    "    # Save Model\n",
    "    saver = tf.train.Saver()\n",
    "    save_path = saver.save(sess, save_model_path)"
   ]
  },
  {
   "cell_type": "markdown",
   "metadata": {},
   "source": [
    "# Checkpoint\n",
    "The model has been saved to disk.\n",
    "## Test Model\n",
    "Test your model against the test dataset.  This will be your final accuracy. You should have an accuracy greater than 50%. If you don't, keep tweaking the model architecture and parameters."
   ]
  },
  {
   "cell_type": "code",
   "execution_count": 1,
   "metadata": {},
   "outputs": [
    {
     "name": "stdout",
     "output_type": "stream",
     "text": [
      "INFO:tensorflow:Restoring parameters from ./image_classification\n",
      "Testing Accuracy: 0.4859673566878981\n",
      "\n"
     ]
    },
    {
     "data": {
      "image/png": "[encoded data removed]",
      "text/plain": [
       "<matplotlib.figure.Figure at 0x7f2b7c9cbe48>"
      ]
     },
     "metadata": {
      "image/png": {
       "height": 319,
       "width": 349
      }
     },
     "output_type": "display_data"
    }
   ],
   "source": [
    "\"\"\"\n",
    "DON'T MODIFY ANYTHING IN THIS CELL\n",
    "\"\"\"\n",
    "%matplotlib inline\n",
    "%config InlineBackend.figure_format = 'retina'\n",
    "\n",
    "import tensorflow as tf\n",
    "import pickle\n",
    "import helper\n",
    "import random\n",
    "\n",
    "# Set batch size if not already set\n",
    "try:\n",
    "    if batch_size:\n",
    "        pass\n",
    "except NameError:\n",
    "    batch_size = 64\n",
    "\n",
    "save_model_path = './image_classification'\n",
    "n_samples = 4\n",
    "top_n_predictions = 3\n",
    "\n",
    "def test_model():\n",
    "    \"\"\"\n",
    "    Test the saved model against the test dataset\n",
    "    \"\"\"\n",
    "\n",
    "    test_features, test_labels = pickle.load(open('preprocess_training.p', mode='rb'))\n",
    "    loaded_graph = tf.Graph()\n",
    "\n",
    "    with tf.Session(graph=loaded_graph) as sess:\n",
    "        # Load model\n",
    "        loader = tf.train.import_meta_graph(save_model_path + '.meta')\n",
    "        loader.restore(sess, save_model_path)\n",
    "\n",
    "        # Get Tensors from loaded model\n",
    "        loaded_x = loaded_graph.get_tensor_by_name('x:0')\n",
    "        loaded_y = loaded_graph.get_tensor_by_name('y:0')\n",
    "        loaded_keep_prob = loaded_graph.get_tensor_by_name('keep_prob:0')\n",
    "        loaded_logits = loaded_graph.get_tensor_by_name('logits:0')\n",
    "        loaded_acc = loaded_graph.get_tensor_by_name('accuracy:0')\n",
    "        \n",
    "        # Get accuracy in batches for memory limitations\n",
    "        test_batch_acc_total = 0\n",
    "        test_batch_count = 0\n",
    "        \n",
    "        for train_feature_batch, train_label_batch in helper.batch_features_labels(test_features, test_labels, batch_size):\n",
    "            test_batch_acc_total += sess.run(\n",
    "                loaded_acc,\n",
    "                feed_dict={loaded_x: train_feature_batch, loaded_y: train_label_batch, loaded_keep_prob: 1.0})\n",
    "            test_batch_count += 1\n",
    "\n",
    "        print('Testing Accuracy: {}\\n'.format(test_batch_acc_total/test_batch_count))\n",
    "\n",
    "        # Print Random Samples\n",
    "        random_test_features, random_test_labels = tuple(zip(*random.sample(list(zip(test_features, test_labels)), n_samples)))\n",
    "        random_test_predictions = sess.run(\n",
    "            tf.nn.top_k(tf.nn.softmax(loaded_logits), top_n_predictions),\n",
    "            feed_dict={loaded_x: random_test_features, loaded_y: random_test_labels, loaded_keep_prob: 1.0})\n",
    "        helper.display_image_predictions(random_test_features, random_test_labels, random_test_predictions)\n",
    "\n",
    "\n",
    "test_model()"
   ]
  },
  {
   "cell_type": "markdown",
   "metadata": {},
   "source": [
    "## Why 50-70% Accuracy?\n",
    "You might be wondering why you can't get an accuracy any higher. First things first, 50% isn't bad for a simple CNN.  Pure guessing would get you 10% accuracy. However, you might notice people are getting scores [well above 70%](http://rodrigob.github.io/are_we_there_yet/build/classification_datasets_results.html#43494641522d3130).  That's because we haven't taught you all there is to know about neural networks. We still need to cover a few more techniques.\n",
    "## Submitting This Project\n",
    "When submitting this project, make sure to run all the cells before saving the notebook.  Save the notebook file as \"dlnd_image_classification.ipynb\" and save it as a HTML file under \"File\" -> \"Download as\".  Include the \"helper.py\" and \"problem_unittests.py\" files in your submission."
   ]
  }
 ],
 "metadata": {
  "kernelspec": {
   "display_name": "Python 3",
   "language": "python",
   "name": "python3"
  },
  "language_info": {
   "codemirror_mode": {
    "name": "ipython",
    "version": 3
   },
   "file_extension": ".py",
   "mimetype": "text/x-python",
   "name": "python",
   "nbconvert_exporter": "python",
   "pygments_lexer": "ipython3",
   "version": "3.6.1"
  }
 },
 "nbformat": 4,
 "nbformat_minor": 1
}
