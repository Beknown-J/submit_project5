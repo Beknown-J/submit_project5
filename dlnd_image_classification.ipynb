{
 "cells": [
  {
   "cell_type": "markdown",
   "metadata": {
    "collapsed": true
   },
   "source": [
    "# Image Classification\n",
    "In this project, you'll classify images from the [CIFAR-10 dataset](https://www.cs.toronto.edu/~kriz/cifar.html).  The dataset consists of airplanes, dogs, cats, and other objects. You'll preprocess the images, then train a convolutional neural network on all the samples. The images need to be normalized and the labels need to be one-hot encoded.  You'll get to apply what you learned and build a convolutional, max pooling, dropout, and fully connected layers.  At the end, you'll get to see your neural network's predictions on the sample images.\n",
    "## Get the Data\n",
    "Run the following cell to download the [CIFAR-10 dataset for python](https://www.cs.toronto.edu/~kriz/cifar-10-python.tar.gz)."
   ]
  },
  {
   "cell_type": "code",
   "execution_count": 1,
   "metadata": {},
   "outputs": [
    {
     "name": "stderr",
     "output_type": "stream",
     "text": [
      "CIFAR-10 Dataset: 171MB [00:39, 4.34MB/s]                              \n"
     ]
    },
    {
     "name": "stdout",
     "output_type": "stream",
     "text": [
      "All files found!\n"
     ]
    }
   ],
   "source": [
    "\"\"\"\n",
    "DON'T MODIFY ANYTHING IN THIS CELL THAT IS BELOW THIS LINE\n",
    "\"\"\"\n",
    "from urllib.request import urlretrieve\n",
    "from os.path import isfile, isdir\n",
    "from tqdm import tqdm\n",
    "import problem_unittests as tests\n",
    "import tarfile\n",
    "\n",
    "cifar10_dataset_folder_path = 'cifar-10-batches-py'\n",
    "\n",
    "# Use Floyd's cifar-10 dataset if present\n",
    "floyd_cifar10_location = '/input/cifar-10/python.tar.gz'\n",
    "if isfile(floyd_cifar10_location):\n",
    "    tar_gz_path = floyd_cifar10_location\n",
    "else:\n",
    "    tar_gz_path = 'cifar-10-python.tar.gz'\n",
    "\n",
    "class DLProgress(tqdm):\n",
    "    last_block = 0\n",
    "\n",
    "    def hook(self, block_num=1, block_size=1, total_size=None):\n",
    "        self.total = total_size\n",
    "        self.update((block_num - self.last_block) * block_size)\n",
    "        self.last_block = block_num\n",
    "\n",
    "if not isfile(tar_gz_path):\n",
    "    with DLProgress(unit='B', unit_scale=True, miniters=1, desc='CIFAR-10 Dataset') as pbar:\n",
    "        urlretrieve(\n",
    "            'https://www.cs.toronto.edu/~kriz/cifar-10-python.tar.gz',\n",
    "            tar_gz_path,\n",
    "            pbar.hook)\n",
    "\n",
    "if not isdir(cifar10_dataset_folder_path):\n",
    "    with tarfile.open(tar_gz_path) as tar:\n",
    "        tar.extractall()\n",
    "        tar.close()\n",
    "\n",
    "\n",
    "tests.test_folder_path(cifar10_dataset_folder_path)"
   ]
  },
  {
   "cell_type": "markdown",
   "metadata": {},
   "source": [
    "## Explore the Data\n",
    "The dataset is broken into batches to prevent your machine from running out of memory.  The CIFAR-10 dataset consists of 5 batches, named `data_batch_1`, `data_batch_2`, etc.. Each batch contains the labels and images that are one of the following:\n",
    "* airplane\n",
    "* automobile\n",
    "* bird\n",
    "* cat\n",
    "* deer\n",
    "* dog\n",
    "* frog\n",
    "* horse\n",
    "* ship\n",
    "* truck\n",
    "\n",
    "Understanding a dataset is part of making predictions on the data.  Play around with the code cell below by changing the `batch_id` and `sample_id`. The `batch_id` is the id for a batch (1-5). The `sample_id` is the id for a image and label pair in the batch.\n",
    "\n",
    "Ask yourself \"What are all possible labels?\", \"What is the range of values for the image data?\", \"Are the labels in order or random?\".  Answers to questions like these will help you preprocess the data and end up with better predictions."
   ]
  },
  {
   "cell_type": "code",
   "execution_count": 2,
   "metadata": {},
   "outputs": [
    {
     "name": "stdout",
     "output_type": "stream",
     "text": [
      "\n",
      "Stats of batch 4:\n",
      "Samples: 10000\n",
      "Label Counts: {0: 1003, 1: 963, 2: 1041, 3: 976, 4: 1004, 5: 1021, 6: 1004, 7: 981, 8: 1024, 9: 983}\n",
      "First 20 Labels: [0, 6, 0, 2, 7, 2, 1, 2, 4, 1, 5, 6, 6, 3, 1, 3, 5, 5, 8, 1]\n",
      "\n",
      "Example of Image 166:\n",
      "Image - Min Value: 3 Max Value: 243\n",
      "Image - Shape: (32, 32, 3)\n",
      "Label - Label Id: 1 Name: automobile\n"
     ]
    },
    {
     "data": {
      "image/png": "[encoded data removed]",
      "text/plain": [
       "<matplotlib.figure.Figure at 0x7f0a967deac8>"
      ]
     },
     "metadata": {
      "image/png": {
       "height": 250,
       "width": 253
      }
     },
     "output_type": "display_data"
    }
   ],
   "source": [
    "%matplotlib inline\n",
    "%config InlineBackend.figure_format = 'retina'\n",
    "\n",
    "import helper\n",
    "import numpy as np\n",
    "\n",
    "# Explore the dataset\n",
    "batch_id = 4\n",
    "sample_id = 166\n",
    "helper.display_stats(cifar10_dataset_folder_path, batch_id, sample_id)"
   ]
  },
  {
   "cell_type": "markdown",
   "metadata": {},
   "source": [
    "## Implement Preprocess Functions\n",
    "### Normalize\n",
    "In the cell below, implement the `normalize` function to take in image data, `x`, and return it as a normalized Numpy array. The values should be in the range of 0 to 1, inclusive.  The return object should be the same shape as `x`."
   ]
  },
  {
   "cell_type": "code",
   "execution_count": 3,
   "metadata": {},
   "outputs": [
    {
     "name": "stdout",
     "output_type": "stream",
     "text": [
      "Tests Passed\n"
     ]
    }
   ],
   "source": [
    "def normalize(x):\n",
    "    \"\"\"\n",
    "    Normalize a list of sample image data in the range of 0 to 1\n",
    "    : x: List of image data.  The image shape is (32, 32, 3)\n",
    "    : return: Numpy array of normalize data\n",
    "    \"\"\"\n",
    "    # TODO: Implement Function\n",
    "    min_a = np.min(x)\n",
    "    max_a = np.max(x)\n",
    "    normal_x = 0 + ((x - min_a)*(1 - 0)/(max_a - min_a))\n",
    "    return normal_x\n",
    "\n",
    "\n",
    "\"\"\"\n",
    "DON'T MODIFY ANYTHING IN THIS CELL THAT IS BELOW THIS LINE\n",
    "\"\"\"\n",
    "tests.test_normalize(normalize)"
   ]
  },
  {
   "cell_type": "markdown",
   "metadata": {},
   "source": [
    "### One-hot encode\n",
    "Just like the previous code cell, you'll be implementing a function for preprocessing.  This time, you'll implement the `one_hot_encode` function. The input, `x`, are a list of labels.  Implement the function to return the list of labels as One-Hot encoded Numpy array.  The possible values for labels are 0 to 9. The one-hot encoding function should return the same encoding for each value between each call to `one_hot_encode`.  Make sure to save the map of encodings outside the function.\n",
    "\n",
    "Hint: Don't reinvent the wheel."
   ]
  },
  {
   "cell_type": "code",
   "execution_count": 4,
   "metadata": {},
   "outputs": [
    {
     "name": "stdout",
     "output_type": "stream",
     "text": [
      "Tests Passed\n"
     ]
    }
   ],
   "source": [
    "from sklearn import preprocessing\n",
    "lb = preprocessing.LabelBinarizer()\n",
    "a = [0,1,2,3,4,5,6,7,8,9]\n",
    "    \n",
    "def one_hot_encode(x):\n",
    "    \"\"\"\n",
    "    One hot encode a list of sample labels. Return a one-hot encoded vector for each label.\n",
    "    : x: List of sample Labels\n",
    "    : return: Numpy array of one-hot encoded labels\n",
    "    \"\"\"\n",
    "    # TODO: Implement Function    \n",
    "    lb.fit(a)\n",
    "    ont_hot_label = lb.transform(x)\n",
    "    return ont_hot_label\n",
    "\n",
    "\n",
    "\"\"\"\n",
    "DON'T MODIFY ANYTHING IN THIS CELL THAT IS BELOW THIS LINE\n",
    "\"\"\"\n",
    "tests.test_one_hot_encode(one_hot_encode)"
   ]
  },
  {
   "cell_type": "markdown",
   "metadata": {},
   "source": [
    "### Randomize Data\n",
    "As you saw from exploring the data above, the order of the samples are randomized.  It doesn't hurt to randomize it again, but you don't need to for this dataset."
   ]
  },
  {
   "cell_type": "markdown",
   "metadata": {},
   "source": [
    "## Preprocess all the data and save it\n",
    "Running the code cell below will preprocess all the CIFAR-10 data and save it to file. The code below also uses 10% of the training data for validation."
   ]
  },
  {
   "cell_type": "code",
   "execution_count": 5,
   "metadata": {
    "collapsed": true
   },
   "outputs": [],
   "source": [
    "\"\"\"\n",
    "DON'T MODIFY ANYTHING IN THIS CELL\n",
    "\"\"\"\n",
    "# Preprocess Training, Validation, and Testing Data\n",
    "helper.preprocess_and_save_data(cifar10_dataset_folder_path, normalize, one_hot_encode)"
   ]
  },
  {
   "cell_type": "markdown",
   "metadata": {},
   "source": [
    "# Check Point\n",
    "This is your first checkpoint.  If you ever decide to come back to this notebook or have to restart the notebook, you can start from here.  The preprocessed data has been saved to disk."
   ]
  },
  {
   "cell_type": "code",
   "execution_count": 1,
   "metadata": {
    "collapsed": true
   },
   "outputs": [],
   "source": [
    "\"\"\"\n",
    "DON'T MODIFY ANYTHING IN THIS CELL\n",
    "\"\"\"\n",
    "import pickle\n",
    "import problem_unittests as tests\n",
    "import helper\n",
    "\n",
    "# Load the Preprocessed Validation data\n",
    "valid_features, valid_labels = pickle.load(open('preprocess_validation.p', mode='rb'))"
   ]
  },
  {
   "cell_type": "markdown",
   "metadata": {},
   "source": [
    "## Build the network\n",
    "For the neural network, you'll build each layer into a function.  Most of the code you've seen has been outside of functions. To test your code more thoroughly, we require that you put each layer in a function.  This allows us to give you better feedback and test for simple mistakes using our unittests before you submit your project.\n",
    "\n",
    ">**Note:** If you're finding it hard to dedicate enough time for this course each week, we've provided a small shortcut to this part of the project. In the next couple of problems, you'll have the option to use classes from the [TensorFlow Layers](https://www.tensorflow.org/api_docs/python/tf/layers) or [TensorFlow Layers (contrib)](https://www.tensorflow.org/api_guides/python/contrib.layers) packages to build each layer, except the layers you build in the \"Convolutional and Max Pooling Layer\" section.  TF Layers is similar to Keras's and TFLearn's abstraction to layers, so it's easy to pickup.\n",
    "\n",
    ">However, if you would like to get the most out of this course, try to solve all the problems _without_ using anything from the TF Layers packages. You **can** still use classes from other packages that happen to have the same name as ones you find in TF Layers! For example, instead of using the TF Layers version of the `conv2d` class, [tf.layers.conv2d](https://www.tensorflow.org/api_docs/python/tf/layers/conv2d), you would want to use the TF Neural Network version of `conv2d`, [tf.nn.conv2d](https://www.tensorflow.org/api_docs/python/tf/nn/conv2d). \n",
    "\n",
    "Let's begin!\n",
    "\n",
    "### Input\n",
    "The neural network needs to read the image data, one-hot encoded labels, and dropout keep probability. Implement the following functions\n",
    "* Implement `neural_net_image_input`\n",
    " * Return a [TF Placeholder](https://www.tensorflow.org/api_docs/python/tf/placeholder)\n",
    " * Set the shape using `image_shape` with batch size set to `None`.\n",
    " * Name the TensorFlow placeholder \"x\" using the TensorFlow `name` parameter in the [TF Placeholder](https://www.tensorflow.org/api_docs/python/tf/placeholder).\n",
    "* Implement `neural_net_label_input`\n",
    " * Return a [TF Placeholder](https://www.tensorflow.org/api_docs/python/tf/placeholder)\n",
    " * Set the shape using `n_classes` with batch size set to `None`.\n",
    " * Name the TensorFlow placeholder \"y\" using the TensorFlow `name` parameter in the [TF Placeholder](https://www.tensorflow.org/api_docs/python/tf/placeholder).\n",
    "* Implement `neural_net_keep_prob_input`\n",
    " * Return a [TF Placeholder](https://www.tensorflow.org/api_docs/python/tf/placeholder) for dropout keep probability.\n",
    " * Name the TensorFlow placeholder \"keep_prob\" using the TensorFlow `name` parameter in the [TF Placeholder](https://www.tensorflow.org/api_docs/python/tf/placeholder).\n",
    "\n",
    "These names will be used at the end of the project to load your saved model.\n",
    "\n",
    "Note: `None` for shapes in TensorFlow allow for a dynamic size."
   ]
  },
  {
   "cell_type": "code",
   "execution_count": 2,
   "metadata": {},
   "outputs": [
    {
     "name": "stdout",
     "output_type": "stream",
     "text": [
      "Image Input Tests Passed.\n",
      "Label Input Tests Passed.\n",
      "Keep Prob Tests Passed.\n"
     ]
    }
   ],
   "source": [
    "import tensorflow as tf\n",
    "\n",
    "def neural_net_image_input(image_shape):\n",
    "    \"\"\"\n",
    "    Return a Tensor for a bach of image input\n",
    "    : image_shape: Shape of the images\n",
    "    : return: Tensor for image input.\n",
    "    \"\"\"\n",
    "    # TODO: Implement Function\n",
    "    shapes = (None, ) + image_shape\n",
    "    input_data = tf.placeholder(tf.float32, shapes, name = 'x')\n",
    "    return input_data\n",
    "\n",
    "\n",
    "def neural_net_label_input(n_classes):\n",
    "    \"\"\"\n",
    "    Return a Tensor for a batch of label input\n",
    "    : n_classes: Number of classes\n",
    "    : return: Tensor for label input.\n",
    "    \"\"\"\n",
    "    # TODO: Implement Function\n",
    "    shapes = (None, n_classes)\n",
    "    label_data = tf.placeholder(tf.float32, shapes, name = 'y')\n",
    "    return label_data\n",
    "\n",
    "\n",
    "def neural_net_keep_prob_input():\n",
    "    \"\"\"\n",
    "    Return a Tensor for keep probability\n",
    "    : return: Tensor for keep probability.\n",
    "    \"\"\"\n",
    "    # TODO: Implement Function\n",
    "    keep_prob = tf.placeholder(tf.float32, name = 'keep_prob')\n",
    "    return keep_prob\n",
    "\n",
    "\n",
    "\"\"\"\n",
    "DON'T MODIFY ANYTHING IN THIS CELL THAT IS BELOW THIS LINE\n",
    "\"\"\"\n",
    "tf.reset_default_graph()\n",
    "tests.test_nn_image_inputs(neural_net_image_input)\n",
    "tests.test_nn_label_inputs(neural_net_label_input)\n",
    "tests.test_nn_keep_prob_inputs(neural_net_keep_prob_input)"
   ]
  },
  {
   "cell_type": "markdown",
   "metadata": {},
   "source": [
    "### Convolution and Max Pooling Layer\n",
    "Convolution layers have a lot of success with images. For this code cell, you should implement the function `conv2d_maxpool` to apply convolution then max pooling:\n",
    "* Create the weight and bias using `conv_ksize`, `conv_num_outputs` and the shape of `x_tensor`.\n",
    "* Apply a convolution to `x_tensor` using weight and `conv_strides`.\n",
    " * We recommend you use same padding, but you're welcome to use any padding.\n",
    "* Add bias\n",
    "* Add a nonlinear activation to the convolution.\n",
    "* Apply Max Pooling using `pool_ksize` and `pool_strides`.\n",
    " * We recommend you use same padding, but you're welcome to use any padding.\n",
    "\n",
    "**Note:** You **can't** use [TensorFlow Layers](https://www.tensorflow.org/api_docs/python/tf/layers) or [TensorFlow Layers (contrib)](https://www.tensorflow.org/api_guides/python/contrib.layers) for **this** layer, but you can still use TensorFlow's [Neural Network](https://www.tensorflow.org/api_docs/python/tf/nn) package. You may still use the shortcut option for all the **other** layers."
   ]
  },
  {
   "cell_type": "code",
   "execution_count": 3,
   "metadata": {},
   "outputs": [
    {
     "name": "stdout",
     "output_type": "stream",
     "text": [
      "Tests Passed\n"
     ]
    }
   ],
   "source": [
    "def conv2d_maxpool(x_tensor, conv_num_outputs, conv_ksize, conv_strides, pool_ksize, pool_strides):\n",
    "    \"\"\"\n",
    "    Apply convolution then max pooling to x_tensor\n",
    "    :param x_tensor: TensorFlow Tensor\n",
    "    :param conv_num_outputs: Number of outputs for the convolutional layer\n",
    "    :param conv_ksize: kernal size 2-D Tuple for the convolutional layer\n",
    "    :param conv_strides: Stride 2-D Tuple for convolution\n",
    "    :param pool_ksize: kernal size 2-D Tuple for pool\n",
    "    :param pool_strides: Stride 2-D Tuple for pool\n",
    "    : return: A tensor that represents convolution and max pooling of x_tensor\n",
    "    \"\"\"\n",
    "    # TODO: Implement Function\n",
    "    weights = tf.Variable(tf.truncated_normal([conv_ksize[0], conv_ksize[1], x_tensor.shape.as_list()[3], conv_num_outputs], stddev=0.05))\n",
    "    bias = tf.Variable(tf.zeros([conv_num_outputs]))\n",
    "    \n",
    "    conv_layer = tf.nn.conv2d(x_tensor, weights, strides = [1, conv_strides[0], conv_strides[1], 1], padding = 'SAME')\n",
    "    conv_layer = tf.nn.bias_add(conv_layer, bias)\n",
    "    \n",
    "    conv_layer_out = tf.nn.relu(conv_layer)\n",
    "    \n",
    "    max_pool = tf.nn.max_pool(conv_layer_out, ksize = [1, pool_ksize[0], pool_ksize[1], 1], strides = [1, pool_strides[0], pool_strides[1], 1], padding = 'VALID')\n",
    "    return max_pool \n",
    "\n",
    "\n",
    "\"\"\"\n",
    "DON'T MODIFY ANYTHING IN THIS CELL THAT IS BELOW THIS LINE\n",
    "\"\"\"\n",
    "tests.test_con_pool(conv2d_maxpool)"
   ]
  },
  {
   "cell_type": "markdown",
   "metadata": {},
   "source": [
    "### Flatten Layer\n",
    "Implement the `flatten` function to change the dimension of `x_tensor` from a 4-D tensor to a 2-D tensor.  The output should be the shape (*Batch Size*, *Flattened Image Size*). Shortcut option: you can use classes from the [TensorFlow Layers](https://www.tensorflow.org/api_docs/python/tf/layers) or [TensorFlow Layers (contrib)](https://www.tensorflow.org/api_guides/python/contrib.layers) packages for this layer. For more of a challenge, only use other TensorFlow packages."
   ]
  },
  {
   "cell_type": "code",
   "execution_count": 4,
   "metadata": {},
   "outputs": [
    {
     "name": "stdout",
     "output_type": "stream",
     "text": [
      "Tests Passed\n"
     ]
    }
   ],
   "source": [
    "def flatten(x_tensor):\n",
    "    \"\"\"\n",
    "    Flatten x_tensor to (Batch Size, Flattened Image Size)\n",
    "    : x_tensor: A tensor of size (Batch Size, ...), where ... are the image dimensions.\n",
    "    : return: A tensor of size (Batch Size, Flattened Image Size).\n",
    "    \"\"\"\n",
    "    # TODO: Implement Function\n",
    "    shape_list = x_tensor.shape.as_list()\n",
    "    len_shape = shape_list[1]*shape_list[2]*shape_list[3]\n",
    "    x_reshape = tf.reshape(x_tensor, [-1, len_shape])\n",
    "    return x_reshape\n",
    "\n",
    "\n",
    "\"\"\"\n",
    "DON'T MODIFY ANYTHING IN THIS CELL THAT IS BELOW THIS LINE\n",
    "\"\"\"\n",
    "tests.test_flatten(flatten)"
   ]
  },
  {
   "cell_type": "markdown",
   "metadata": {},
   "source": [
    "### Fully-Connected Layer\n",
    "Implement the `fully_conn` function to apply a fully connected layer to `x_tensor` with the shape (*Batch Size*, *num_outputs*). Shortcut option: you can use classes from the [TensorFlow Layers](https://www.tensorflow.org/api_docs/python/tf/layers) or [TensorFlow Layers (contrib)](https://www.tensorflow.org/api_guides/python/contrib.layers) packages for this layer. For more of a challenge, only use other TensorFlow packages."
   ]
  },
  {
   "cell_type": "code",
   "execution_count": 5,
   "metadata": {},
   "outputs": [
    {
     "name": "stdout",
     "output_type": "stream",
     "text": [
      "Tests Passed\n"
     ]
    }
   ],
   "source": [
    "def fully_conn(x_tensor, num_outputs):\n",
    "    \"\"\"\n",
    "    Apply a fully connected layer to x_tensor using weight and bias\n",
    "    : x_tensor: A 2-D tensor where the first dimension is batch size.\n",
    "    : num_outputs: The number of output that the new tensor should be.\n",
    "    : return: A 2-D tensor where the second dimension is num_outputs.\n",
    "    \"\"\"\n",
    "    # TODO: Implement Function\n",
    "    fc_weight = tf.Variable(tf.truncated_normal([x_tensor.shape.as_list()[1], num_outputs], stddev=0.05))\n",
    "    fc_biaes = tf.Variable(tf.zeros([num_outputs]))\n",
    "    fc = tf.add(tf.matmul(x_tensor, fc_weight), fc_biaes)\n",
    "    fc = tf.nn.relu(fc)\n",
    "    return fc\n",
    "\n",
    "\n",
    "\"\"\"\n",
    "DON'T MODIFY ANYTHING IN THIS CELL THAT IS BELOW THIS LINE\n",
    "\"\"\"\n",
    "tests.test_fully_conn(fully_conn)"
   ]
  },
  {
   "cell_type": "markdown",
   "metadata": {},
   "source": [
    "### Output Layer\n",
    "Implement the `output` function to apply a fully connected layer to `x_tensor` with the shape (*Batch Size*, *num_outputs*). Shortcut option: you can use classes from the [TensorFlow Layers](https://www.tensorflow.org/api_docs/python/tf/layers) or [TensorFlow Layers (contrib)](https://www.tensorflow.org/api_guides/python/contrib.layers) packages for this layer. For more of a challenge, only use other TensorFlow packages.\n",
    "\n",
    "**Note:** Activation, softmax, or cross entropy should **not** be applied to this."
   ]
  },
  {
   "cell_type": "code",
   "execution_count": 6,
   "metadata": {},
   "outputs": [
    {
     "name": "stdout",
     "output_type": "stream",
     "text": [
      "Tests Passed\n"
     ]
    }
   ],
   "source": [
    "def output(x_tensor, num_outputs):\n",
    "    \"\"\"\n",
    "    Apply a output layer to x_tensor using weight and bias\n",
    "    : x_tensor: A 2-D tensor where the first dimension is batch size.\n",
    "    : num_outputs: The number of output that the new tensor should be.\n",
    "    : return: A 2-D tensor where the second dimension is num_outputs.\n",
    "    \"\"\"\n",
    "    # TODO: Implement Function\n",
    "    weight_out = tf.Variable(tf.truncated_normal([x_tensor.shape.as_list()[1], num_outputs], stddev=0.05))\n",
    "    biaes = tf.Variable(tf.zeros(num_outputs))\n",
    "    out = tf.add(tf.matmul(x_tensor, weight_out), biaes)\n",
    "    return out\n",
    "\n",
    "\n",
    "\"\"\"\n",
    "DON'T MODIFY ANYTHING IN THIS CELL THAT IS BELOW THIS LINE\n",
    "\"\"\"\n",
    "tests.test_output(output)"
   ]
  },
  {
   "cell_type": "markdown",
   "metadata": {},
   "source": [
    "### Create Convolutional Model\n",
    "Implement the function `conv_net` to create a convolutional neural network model. The function takes in a batch of images, `x`, and outputs logits.  Use the layers you created above to create this model:\n",
    "\n",
    "* Apply 1, 2, or 3 Convolution and Max Pool layers\n",
    "* Apply a Flatten Layer\n",
    "* Apply 1, 2, or 3 Fully Connected Layers\n",
    "* Apply an Output Layer\n",
    "* Return the output\n",
    "* Apply [TensorFlow's Dropout](https://www.tensorflow.org/api_docs/python/tf/nn/dropout) to one or more layers in the model using `keep_prob`. "
   ]
  },
  {
   "cell_type": "code",
   "execution_count": 7,
   "metadata": {},
   "outputs": [
    {
     "name": "stdout",
     "output_type": "stream",
     "text": [
      "Neural Network Built!\n"
     ]
    }
   ],
   "source": [
    "def conv_net(x, keep_prob):\n",
    "    \"\"\"\n",
    "    Create a convolutional neural network model\n",
    "    : x: Placeholder tensor that holds image data.\n",
    "    : keep_prob: Placeholder tensor that hold dropout keep probability.\n",
    "    : return: Tensor that represents logits\n",
    "    \"\"\"\n",
    "    # TODO: Apply 1, 2, or 3 Convolution and Max Pool layers\n",
    "    #    Play around with different number of outputs, kernel size and stride\n",
    "    # Function Definition from Above:\n",
    "    conv_ksize = [3, 3]\n",
    "    conv_strides = [1, 1]\n",
    "    conv_lay1 = conv2d_maxpool(x_tensor=x, conv_num_outputs=32, conv_ksize=conv_ksize, conv_strides=conv_strides, pool_ksize=(3,3), pool_strides=(1,1))\n",
    "    conv_lay1 = conv2d_maxpool(x_tensor=conv_lay1, conv_num_outputs=64, conv_ksize=conv_ksize, conv_strides=conv_strides, pool_ksize=(3,3), pool_strides=(1,1))\n",
    "    conv_lay1 = conv2d_maxpool(x_tensor=conv_lay1, conv_num_outputs=128, conv_ksize=conv_ksize, conv_strides=conv_strides, pool_ksize=(3,3), pool_strides=(1,1))\n",
    "\n",
    "    # TODO: Apply a Flatten Layer\n",
    "    # Function Definition from Above:\n",
    "    flat_layer = flatten(conv_lay1)\n",
    "    \n",
    "\n",
    "    # TODO: Apply 1, 2, or 3 Fully Connected Layers\n",
    "    #    Play around with different number of outputs\n",
    "    # Function Definition from Above:\n",
    "    fc_layer1 = fully_conn(x_tensor = flat_layer, num_outputs = 1024)\n",
    "    fc_layer1_dp = tf.nn.dropout(fc_layer1, keep_prob)\n",
    "    fc_layer2 = fully_conn(x_tensor = fc_layer1_dp, num_outputs = 512)    \n",
    "    fc_layer2_dp = tf.nn.dropout(fc_layer2, keep_prob)\n",
    "    fc_layer3 = fully_conn(x_tensor = fc_layer2_dp, num_outputs = 256)\n",
    "    fc_layer3_dp = tf.nn.dropout(fc_layer3, keep_prob)\n",
    "    # TODO: Apply an Output Layer\n",
    "    #    Set this to the number of classes\n",
    "    # Function Definition from Above:\n",
    "    out = output(x_tensor=fc_layer3_dp, num_outputs=10)\n",
    "    \n",
    "    \n",
    "    # TODO: return output\n",
    "    return out\n",
    "\n",
    "\n",
    "\"\"\"\n",
    "DON'T MODIFY ANYTHING IN THIS CELL THAT IS BELOW THIS LINE\n",
    "\"\"\"\n",
    "\n",
    "##############################\n",
    "## Build the Neural Network ##\n",
    "##############################\n",
    "\n",
    "# Remove previous weights, bias, inputs, etc..\n",
    "tf.reset_default_graph()\n",
    "\n",
    "# Inputs\n",
    "x = neural_net_image_input((32, 32, 3))\n",
    "y = neural_net_label_input(10)\n",
    "keep_prob = neural_net_keep_prob_input()\n",
    "\n",
    "# Model\n",
    "logits = conv_net(x, keep_prob)\n",
    "\n",
    "# Name logits Tensor, so that is can be loaded from disk after training\n",
    "logits = tf.identity(logits, name='logits')\n",
    "\n",
    "# Loss and Optimizer\n",
    "cost = tf.reduce_mean(tf.nn.softmax_cross_entropy_with_logits(logits=logits, labels=y))\n",
    "optimizer = tf.train.AdamOptimizer().minimize(cost)\n",
    "\n",
    "# Accuracy\n",
    "correct_pred = tf.equal(tf.argmax(logits, 1), tf.argmax(y, 1))\n",
    "accuracy = tf.reduce_mean(tf.cast(correct_pred, tf.float32), name='accuracy')\n",
    "\n",
    "tests.test_conv_net(conv_net)"
   ]
  },
  {
   "cell_type": "markdown",
   "metadata": {},
   "source": [
    "## Train the Neural Network\n",
    "### Single Optimization\n",
    "Implement the function `train_neural_network` to do a single optimization.  The optimization should use `optimizer` to optimize in `session` with a `feed_dict` of the following:\n",
    "* `x` for image input\n",
    "* `y` for labels\n",
    "* `keep_prob` for keep probability for dropout\n",
    "\n",
    "This function will be called for each batch, so `tf.global_variables_initializer()` has already been called.\n",
    "\n",
    "Note: Nothing needs to be returned. This function is only optimizing the neural network."
   ]
  },
  {
   "cell_type": "code",
   "execution_count": 8,
   "metadata": {},
   "outputs": [
    {
     "name": "stdout",
     "output_type": "stream",
     "text": [
      "Tests Passed\n"
     ]
    }
   ],
   "source": [
    "def train_neural_network(session, optimizer, keep_probability, feature_batch, label_batch):\n",
    "    \"\"\"\n",
    "    Optimize the session on a batch of images and labels\n",
    "    : session: Current TensorFlow session\n",
    "    : optimizer: TensorFlow optimizer function\n",
    "    : keep_probability: keep probability\n",
    "    : feature_batch: Batch of Numpy image data\n",
    "    : label_batch: Batch of Numpy label data\n",
    "    \"\"\"\n",
    "    # TODO: Implement Function\n",
    "    session.run(optimizer, feed_dict = {x:feature_batch, y:label_batch, keep_prob:keep_probability})\n",
    "    pass\n",
    "\n",
    "\n",
    "\"\"\"\n",
    "DON'T MODIFY ANYTHING IN THIS CELL THAT IS BELOW THIS LINE\n",
    "\"\"\"\n",
    "tests.test_train_nn(train_neural_network)"
   ]
  },
  {
   "cell_type": "markdown",
   "metadata": {},
   "source": [
    "### Show Stats\n",
    "Implement the function `print_stats` to print loss and validation accuracy.  Use the global variables `valid_features` and `valid_labels` to calculate validation accuracy.  Use a keep probability of `1.0` to calculate the loss and validation accuracy."
   ]
  },
  {
   "cell_type": "code",
   "execution_count": 9,
   "metadata": {
    "collapsed": true
   },
   "outputs": [],
   "source": [
    "def print_stats(session, feature_batch, label_batch, cost, accuracy):\n",
    "    \"\"\"\n",
    "    Print information about loss and validation accuracy\n",
    "    : session: Current TensorFlow session\n",
    "    : feature_batch: Batch of Numpy image data\n",
    "    : label_batch: Batch of Numpy label data\n",
    "    : cost: TensorFlow cost function\n",
    "    : accuracy: TensorFlow accuracy function\n",
    "    \"\"\"\n",
    "    # TODO: Implement Function\n",
    "    loss = session.run(cost, feed_dict = {x: feature_batch, y: label_batch, keep_prob: 1.})\n",
    "    valid_acc = session.run(accuracy, feed_dict = {x : valid_features, y : valid_labels, keep_prob:1.})\n",
    "    print('The loss is: {}. The valid accuracy is: {}'.format(loss, valid_acc))\n",
    "    pass"
   ]
  },
  {
   "cell_type": "markdown",
   "metadata": {},
   "source": [
    "### Hyperparameters\n",
    "Tune the following parameters:\n",
    "* Set `epochs` to the number of iterations until the network stops learning or start overfitting\n",
    "* Set `batch_size` to the highest number that your machine has memory for.  Most people set them to common sizes of memory:\n",
    " * 64\n",
    " * 128\n",
    " * 256\n",
    " * ...\n",
    "* Set `keep_probability` to the probability of keeping a node using dropout"
   ]
  },
  {
   "cell_type": "code",
   "execution_count": 11,
   "metadata": {
    "collapsed": true
   },
   "outputs": [],
   "source": [
    "# TODO: Tune Parameters\n",
    "epochs = 20\n",
    "batch_size = 64\n",
    "keep_probability = 0.7"
   ]
  },
  {
   "cell_type": "markdown",
   "metadata": {},
   "source": [
    "### Train on a Single CIFAR-10 Batch\n",
    "Instead of training the neural network on all the CIFAR-10 batches of data, let's use a single batch. This should save time while you iterate on the model to get a better accuracy.  Once the final validation accuracy is 50% or greater, run the model on all the data in the next section."
   ]
  },
  {
   "cell_type": "code",
   "execution_count": 32,
   "metadata": {},
   "outputs": [
    {
     "name": "stdout",
     "output_type": "stream",
     "text": [
      "Checking the Training on a Single Batch...\n",
      "Epoch  1, CIFAR-10 Batch 1:  The loss is: 1.9223294258117676. The valid accuracy is: 0.35499998927116394\n",
      "Epoch  2, CIFAR-10 Batch 1:  The loss is: 1.5772547721862793. The valid accuracy is: 0.46699997782707214\n",
      "Epoch  3, CIFAR-10 Batch 1:  The loss is: 1.4089914560317993. The valid accuracy is: 0.49519994854927063\n",
      "Epoch  4, CIFAR-10 Batch 1:  The loss is: 1.1130541563034058. The valid accuracy is: 0.5291999578475952\n",
      "Epoch  5, CIFAR-10 Batch 1:  The loss is: 0.8219181299209595. The valid accuracy is: 0.5553998947143555\n",
      "Epoch  6, CIFAR-10 Batch 1:  The loss is: 0.882554292678833. The valid accuracy is: 0.549799919128418\n",
      "Epoch  7, CIFAR-10 Batch 1:  The loss is: 0.6835251450538635. The valid accuracy is: 0.5689998865127563\n",
      "Epoch  8, CIFAR-10 Batch 1:  The loss is: 0.6293015480041504. The valid accuracy is: 0.5667999386787415\n",
      "Epoch  9, CIFAR-10 Batch 1:  The loss is: 0.5210771560668945. The valid accuracy is: 0.5567998886108398\n",
      "Epoch 10, CIFAR-10 Batch 1:  The loss is: 0.36389395594596863. The valid accuracy is: 0.5739999413490295\n",
      "Epoch 11, CIFAR-10 Batch 1:  The loss is: 0.2475602626800537. The valid accuracy is: 0.5741999745368958\n",
      "Epoch 12, CIFAR-10 Batch 1:  The loss is: 0.27841320633888245. The valid accuracy is: 0.5667999386787415\n",
      "Epoch 13, CIFAR-10 Batch 1:  The loss is: 0.2103491574525833. The valid accuracy is: 0.5699998736381531\n",
      "Epoch 14, CIFAR-10 Batch 1:  The loss is: 0.08065968751907349. The valid accuracy is: 0.5465999841690063\n",
      "Epoch 15, CIFAR-10 Batch 1:  The loss is: 0.05296732857823372. The valid accuracy is: 0.5785999298095703\n",
      "Epoch 16, CIFAR-10 Batch 1:  The loss is: 0.03821767866611481. The valid accuracy is: 0.5765999555587769\n",
      "Epoch 17, CIFAR-10 Batch 1:  The loss is: 0.029741883277893066. The valid accuracy is: 0.5513998866081238\n",
      "Epoch 18, CIFAR-10 Batch 1:  The loss is: 0.033548466861248016. The valid accuracy is: 0.562999963760376\n",
      "Epoch 19, CIFAR-10 Batch 1:  The loss is: 0.01956932246685028. The valid accuracy is: 0.5907999873161316\n",
      "Epoch 20, CIFAR-10 Batch 1:  The loss is: 0.006036506500095129. The valid accuracy is: 0.5959999561309814\n",
      "Epoch 21, CIFAR-10 Batch 1:  The loss is: 0.005944743286818266. The valid accuracy is: 0.5981999039649963\n",
      "Epoch 22, CIFAR-10 Batch 1:  The loss is: 0.0022132478188723326. The valid accuracy is: 0.5963999032974243\n",
      "Epoch 23, CIFAR-10 Batch 1:  The loss is: 0.006958164274692535. The valid accuracy is: 0.5883999466896057\n",
      "Epoch 24, CIFAR-10 Batch 1:  The loss is: 0.0014889836311340332. The valid accuracy is: 0.6029999852180481\n",
      "Epoch 25, CIFAR-10 Batch 1:  The loss is: 0.005260718520730734. The valid accuracy is: 0.585599958896637\n",
      "Epoch 26, CIFAR-10 Batch 1:  The loss is: 0.01619010977447033. The valid accuracy is: 0.5761999487876892\n",
      "Epoch 27, CIFAR-10 Batch 1:  The loss is: 0.005694176536053419. The valid accuracy is: 0.5837998986244202\n",
      "Epoch 28, CIFAR-10 Batch 1:  The loss is: 0.0015597781166434288. The valid accuracy is: 0.5933998823165894\n",
      "Epoch 29, CIFAR-10 Batch 1:  The loss is: 0.0008941760752350092. The valid accuracy is: 0.5783999562263489\n",
      "Epoch 30, CIFAR-10 Batch 1:  The loss is: 0.0008635841077193618. The valid accuracy is: 0.5887999534606934\n",
      "Epoch 31, CIFAR-10 Batch 1:  The loss is: 0.002804366871714592. The valid accuracy is: 0.5895999073982239\n",
      "Epoch 32, CIFAR-10 Batch 1:  The loss is: 0.0013697920367121696. The valid accuracy is: 0.5837999582290649\n",
      "Epoch 33, CIFAR-10 Batch 1:  The loss is: 0.0003873863024637103. The valid accuracy is: 0.587399959564209\n",
      "Epoch 34, CIFAR-10 Batch 1:  The loss is: 0.0011426570126786828. The valid accuracy is: 0.5733999013900757\n",
      "Epoch 35, CIFAR-10 Batch 1:  The loss is: 0.003636700101196766. The valid accuracy is: 0.5811999440193176\n",
      "Epoch 36, CIFAR-10 Batch 1:  The loss is: 0.006390323396772146. The valid accuracy is: 0.5829999446868896\n",
      "Epoch 37, CIFAR-10 Batch 1:  The loss is: 0.004864532500505447. The valid accuracy is: 0.5753998756408691\n",
      "Epoch 38, CIFAR-10 Batch 1:  The loss is: 0.003800399834290147. The valid accuracy is: 0.5793999433517456\n",
      "Epoch 39, CIFAR-10 Batch 1:  The loss is: 0.010135477408766747. The valid accuracy is: 0.5667999386787415\n",
      "Epoch 40, CIFAR-10 Batch 1:  The loss is: 0.00040969502879306674. The valid accuracy is: 0.5727999806404114\n",
      "Epoch 41, CIFAR-10 Batch 1:  The loss is: 0.000806090421974659. The valid accuracy is: 0.5763999223709106\n",
      "Epoch 42, CIFAR-10 Batch 1:  The loss is: 0.0016609698068350554. The valid accuracy is: 0.58079993724823\n",
      "Epoch 43, CIFAR-10 Batch 1:  The loss is: 0.0011551486095413566. The valid accuracy is: 0.5715999007225037\n",
      "Epoch 44, CIFAR-10 Batch 1:  The loss is: 0.010853741317987442. The valid accuracy is: 0.586199939250946\n",
      "Epoch 45, CIFAR-10 Batch 1:  The loss is: 0.0002875294885598123. The valid accuracy is: 0.584399938583374\n",
      "Epoch 46, CIFAR-10 Batch 1:  The loss is: 0.009077344089746475. The valid accuracy is: 0.5829999446868896\n",
      "Epoch 47, CIFAR-10 Batch 1:  The loss is: 0.001013738801702857. The valid accuracy is: 0.5789998769760132\n",
      "Epoch 48, CIFAR-10 Batch 1:  The loss is: 0.004777550231665373. The valid accuracy is: 0.5543999671936035\n",
      "Epoch 49, CIFAR-10 Batch 1:  The loss is: 0.00042976884287782013. The valid accuracy is: 0.5737999081611633\n",
      "Epoch 50, CIFAR-10 Batch 1:  The loss is: 0.00025810464285314083. The valid accuracy is: 0.5721999406814575\n"
     ]
    }
   ],
   "source": [
    "\"\"\"\n",
    "DON'T MODIFY ANYTHING IN THIS CELL\n",
    "\"\"\"\n",
    "print('Checking the Training on a Single Batch...')\n",
    "with tf.Session() as sess:\n",
    "    # Initializing the variables\n",
    "    sess.run(tf.global_variables_initializer())\n",
    "    \n",
    "    # Training cycle\n",
    "    for epoch in range(epochs):\n",
    "        batch_i = 1\n",
    "        for batch_features, batch_labels in helper.load_preprocess_training_batch(batch_i, batch_size):\n",
    "            train_neural_network(sess, optimizer, keep_probability, batch_features, batch_labels)\n",
    "        print('Epoch {:>2}, CIFAR-10 Batch {}:  '.format(epoch + 1, batch_i), end='')\n",
    "        print_stats(sess, batch_features, batch_labels, cost, accuracy)"
   ]
  },
  {
   "cell_type": "markdown",
   "metadata": {},
   "source": [
    "### Fully Train the Model\n",
    "Now that you got a good accuracy with a single CIFAR-10 batch, try it with all five batches."
   ]
  },
  {
   "cell_type": "code",
   "execution_count": 12,
   "metadata": {},
   "outputs": [
    {
     "name": "stdout",
     "output_type": "stream",
     "text": [
      "Training...\n",
      "Epoch  1, CIFAR-10 Batch 1:  The loss is: 1.8867450952529907. The valid accuracy is: 0.3352000117301941\n",
      "Epoch  1, CIFAR-10 Batch 2:  The loss is: 1.477187156677246. The valid accuracy is: 0.4083999693393707\n",
      "Epoch  1, CIFAR-10 Batch 3:  The loss is: 1.1970007419586182. The valid accuracy is: 0.5103999376296997\n",
      "Epoch  1, CIFAR-10 Batch 4:  The loss is: 1.1979303359985352. The valid accuracy is: 0.525399923324585\n",
      "Epoch  1, CIFAR-10 Batch 5:  The loss is: 1.2846243381500244. The valid accuracy is: 0.5541999340057373\n",
      "Epoch  2, CIFAR-10 Batch 1:  The loss is: 1.2381561994552612. The valid accuracy is: 0.5785999298095703\n",
      "Epoch  2, CIFAR-10 Batch 2:  The loss is: 1.0236021280288696. The valid accuracy is: 0.5891999006271362\n",
      "Epoch  2, CIFAR-10 Batch 3:  The loss is: 0.8637140393257141. The valid accuracy is: 0.6175999045372009\n",
      "Epoch  2, CIFAR-10 Batch 4:  The loss is: 0.9582750797271729. The valid accuracy is: 0.6053999066352844\n",
      "Epoch  2, CIFAR-10 Batch 5:  The loss is: 0.9445613622665405. The valid accuracy is: 0.6263998746871948\n",
      "Epoch  3, CIFAR-10 Batch 1:  The loss is: 0.9893038868904114. The valid accuracy is: 0.6191999316215515\n",
      "Epoch  3, CIFAR-10 Batch 2:  The loss is: 0.9449136853218079. The valid accuracy is: 0.6429998874664307\n",
      "Epoch  3, CIFAR-10 Batch 3:  The loss is: 0.6230247020721436. The valid accuracy is: 0.6587998867034912\n",
      "Epoch  3, CIFAR-10 Batch 4:  The loss is: 0.7087551951408386. The valid accuracy is: 0.665199875831604\n",
      "Epoch  3, CIFAR-10 Batch 5:  The loss is: 0.6449612379074097. The valid accuracy is: 0.679399847984314\n",
      "Epoch  4, CIFAR-10 Batch 1:  The loss is: 0.6481280326843262. The valid accuracy is: 0.6819998621940613\n",
      "Epoch  4, CIFAR-10 Batch 2:  The loss is: 0.8095473647117615. The valid accuracy is: 0.6773998737335205\n",
      "Epoch  4, CIFAR-10 Batch 3:  The loss is: 0.5220141410827637. The valid accuracy is: 0.6887997984886169\n",
      "Epoch  4, CIFAR-10 Batch 4:  The loss is: 0.6191866993904114. The valid accuracy is: 0.679999828338623\n",
      "Epoch  4, CIFAR-10 Batch 5:  The loss is: 0.44944724440574646. The valid accuracy is: 0.6843999028205872\n",
      "Epoch  5, CIFAR-10 Batch 1:  The loss is: 0.5996226072311401. The valid accuracy is: 0.6813998818397522\n",
      "Epoch  5, CIFAR-10 Batch 2:  The loss is: 0.7744166254997253. The valid accuracy is: 0.6791998744010925\n",
      "Epoch  5, CIFAR-10 Batch 3:  The loss is: 0.3535636067390442. The valid accuracy is: 0.6963998079299927\n",
      "Epoch  5, CIFAR-10 Batch 4:  The loss is: 0.47370797395706177. The valid accuracy is: 0.7049998641014099\n",
      "Epoch  5, CIFAR-10 Batch 5:  The loss is: 0.36146825551986694. The valid accuracy is: 0.7117998600006104\n",
      "Epoch  6, CIFAR-10 Batch 1:  The loss is: 0.47395530343055725. The valid accuracy is: 0.6853998899459839\n",
      "Epoch  6, CIFAR-10 Batch 2:  The loss is: 0.5045099258422852. The valid accuracy is: 0.6863998770713806\n",
      "Epoch  6, CIFAR-10 Batch 3:  The loss is: 0.3795914947986603. The valid accuracy is: 0.7063998579978943\n",
      "Epoch  6, CIFAR-10 Batch 4:  The loss is: 0.44284921884536743. The valid accuracy is: 0.7001999020576477\n",
      "Epoch  6, CIFAR-10 Batch 5:  The loss is: 0.3643507659435272. The valid accuracy is: 0.6997998952865601\n",
      "Epoch  7, CIFAR-10 Batch 1:  The loss is: 0.35516244173049927. The valid accuracy is: 0.6977998614311218\n",
      "Epoch  7, CIFAR-10 Batch 2:  The loss is: 0.5017281174659729. The valid accuracy is: 0.6899998188018799\n",
      "Epoch  7, CIFAR-10 Batch 3:  The loss is: 0.4376193583011627. The valid accuracy is: 0.6779999136924744\n",
      "Epoch  7, CIFAR-10 Batch 4:  The loss is: 0.373324453830719. The valid accuracy is: 0.704399824142456\n",
      "Epoch  7, CIFAR-10 Batch 5:  The loss is: 0.2888380289077759. The valid accuracy is: 0.694399893283844\n",
      "Epoch  8, CIFAR-10 Batch 1:  The loss is: 0.33505725860595703. The valid accuracy is: 0.7057998776435852\n",
      "Epoch  8, CIFAR-10 Batch 2:  The loss is: 0.4205784201622009. The valid accuracy is: 0.6829999089241028\n",
      "Epoch  8, CIFAR-10 Batch 3:  The loss is: 0.23397089540958405. The valid accuracy is: 0.6977999210357666\n",
      "Epoch  8, CIFAR-10 Batch 4:  The loss is: 0.2985227108001709. The valid accuracy is: 0.6921998262405396\n",
      "Epoch  8, CIFAR-10 Batch 5:  The loss is: 0.20084132254123688. The valid accuracy is: 0.7113999128341675\n",
      "Epoch  9, CIFAR-10 Batch 1:  The loss is: 0.1924474835395813. The valid accuracy is: 0.7045998573303223\n",
      "Epoch  9, CIFAR-10 Batch 2:  The loss is: 0.30911165475845337. The valid accuracy is: 0.6747998595237732\n",
      "Epoch  9, CIFAR-10 Batch 3:  The loss is: 0.23515033721923828. The valid accuracy is: 0.6989998817443848\n",
      "Epoch  9, CIFAR-10 Batch 4:  The loss is: 0.33057257533073425. The valid accuracy is: 0.6867998838424683\n",
      "Epoch  9, CIFAR-10 Batch 5:  The loss is: 0.22257015109062195. The valid accuracy is: 0.6795998811721802\n",
      "Epoch 10, CIFAR-10 Batch 1:  The loss is: 0.1834382712841034. The valid accuracy is: 0.7051998972892761\n",
      "Epoch 10, CIFAR-10 Batch 2:  The loss is: 0.12388409674167633. The valid accuracy is: 0.7063999176025391\n",
      "Epoch 10, CIFAR-10 Batch 3:  The loss is: 0.1802661120891571. The valid accuracy is: 0.7005998492240906\n",
      "Epoch 10, CIFAR-10 Batch 4:  The loss is: 0.1739455908536911. The valid accuracy is: 0.7089998722076416\n",
      "Epoch 10, CIFAR-10 Batch 5:  The loss is: 0.11889775097370148. The valid accuracy is: 0.7061998844146729\n",
      "Epoch 11, CIFAR-10 Batch 1:  The loss is: 0.19391965866088867. The valid accuracy is: 0.6871998310089111\n",
      "Epoch 11, CIFAR-10 Batch 2:  The loss is: 0.1041916012763977. The valid accuracy is: 0.707399845123291\n",
      "Epoch 11, CIFAR-10 Batch 3:  The loss is: 0.1043258011341095. The valid accuracy is: 0.6909998655319214\n",
      "Epoch 11, CIFAR-10 Batch 4:  The loss is: 0.13532531261444092. The valid accuracy is: 0.6967998743057251\n",
      "Epoch 11, CIFAR-10 Batch 5:  The loss is: 0.09942416101694107. The valid accuracy is: 0.6965999007225037\n",
      "Epoch 12, CIFAR-10 Batch 1:  The loss is: 0.09505413472652435. The valid accuracy is: 0.7093998193740845\n",
      "Epoch 12, CIFAR-10 Batch 2:  The loss is: 0.05539187043905258. The valid accuracy is: 0.7131998538970947\n",
      "Epoch 12, CIFAR-10 Batch 3:  The loss is: 0.057317085564136505. The valid accuracy is: 0.6955998539924622\n",
      "Epoch 12, CIFAR-10 Batch 4:  The loss is: 0.0688520148396492. The valid accuracy is: 0.6957998871803284\n",
      "Epoch 12, CIFAR-10 Batch 5:  The loss is: 0.04748459905385971. The valid accuracy is: 0.7087998986244202\n",
      "Epoch 13, CIFAR-10 Batch 1:  The loss is: 0.06683753430843353. The valid accuracy is: 0.7163999080657959\n",
      "Epoch 13, CIFAR-10 Batch 2:  The loss is: 0.03611375391483307. The valid accuracy is: 0.7061998844146729\n",
      "Epoch 13, CIFAR-10 Batch 3:  The loss is: 0.057394903153181076. The valid accuracy is: 0.692599892616272\n",
      "Epoch 13, CIFAR-10 Batch 4:  The loss is: 0.04392854869365692. The valid accuracy is: 0.6963999271392822\n",
      "Epoch 13, CIFAR-10 Batch 5:  The loss is: 0.07172730565071106. The valid accuracy is: 0.6937998533248901\n",
      "Epoch 14, CIFAR-10 Batch 1:  The loss is: 0.10740118473768234. The valid accuracy is: 0.6989999413490295\n",
      "Epoch 14, CIFAR-10 Batch 2:  The loss is: 0.043853387236595154. The valid accuracy is: 0.7043998837471008\n",
      "Epoch 14, CIFAR-10 Batch 3:  The loss is: 0.031789861619472504. The valid accuracy is: 0.6985998749732971\n",
      "Epoch 14, CIFAR-10 Batch 4:  The loss is: 0.0601828396320343. The valid accuracy is: 0.7049998641014099\n",
      "Epoch 14, CIFAR-10 Batch 5:  The loss is: 0.025749046355485916. The valid accuracy is: 0.7059999108314514\n",
      "Epoch 15, CIFAR-10 Batch 1:  The loss is: 0.04084431380033493. The valid accuracy is: 0.6969998478889465\n",
      "Epoch 15, CIFAR-10 Batch 2:  The loss is: 0.030303549021482468. The valid accuracy is: 0.7075998783111572\n",
      "Epoch 15, CIFAR-10 Batch 3:  The loss is: 0.035584837198257446. The valid accuracy is: 0.6983999013900757\n",
      "Epoch 15, CIFAR-10 Batch 4:  The loss is: 0.03998444229364395. The valid accuracy is: 0.7127999067306519\n",
      "Epoch 15, CIFAR-10 Batch 5:  The loss is: 0.011585301719605923. The valid accuracy is: 0.705599844455719\n",
      "Epoch 16, CIFAR-10 Batch 1:  The loss is: 0.023336101323366165. The valid accuracy is: 0.7121997475624084\n",
      "Epoch 16, CIFAR-10 Batch 2:  The loss is: 0.017861953005194664. The valid accuracy is: 0.7115998864173889\n",
      "Epoch 16, CIFAR-10 Batch 3:  The loss is: 0.02417614683508873. The valid accuracy is: 0.6877999305725098\n",
      "Epoch 16, CIFAR-10 Batch 4:  The loss is: 0.06862270832061768. The valid accuracy is: 0.7115998268127441\n"
     ]
    },
    {
     "name": "stdout",
     "output_type": "stream",
     "text": [
      "Epoch 16, CIFAR-10 Batch 5:  The loss is: 0.01956751197576523. The valid accuracy is: 0.6933998465538025\n",
      "Epoch 17, CIFAR-10 Batch 1:  The loss is: 0.017860695719718933. The valid accuracy is: 0.7279998064041138\n",
      "Epoch 17, CIFAR-10 Batch 2:  The loss is: 0.009141269139945507. The valid accuracy is: 0.7101999521255493\n",
      "Epoch 17, CIFAR-10 Batch 3:  The loss is: 0.018866635859012604. The valid accuracy is: 0.7041999697685242\n",
      "Epoch 17, CIFAR-10 Batch 4:  The loss is: 0.012984341010451317. The valid accuracy is: 0.7143998742103577\n",
      "Epoch 17, CIFAR-10 Batch 5:  The loss is: 0.03140050172805786. The valid accuracy is: 0.6815998554229736\n",
      "Epoch 18, CIFAR-10 Batch 1:  The loss is: 0.024861449375748634. The valid accuracy is: 0.7113999128341675\n",
      "Epoch 18, CIFAR-10 Batch 2:  The loss is: 0.024135001003742218. The valid accuracy is: 0.7171998023986816\n",
      "Epoch 18, CIFAR-10 Batch 3:  The loss is: 0.008981699123978615. The valid accuracy is: 0.71319979429245\n",
      "Epoch 18, CIFAR-10 Batch 4:  The loss is: 0.05738339200615883. The valid accuracy is: 0.7051998376846313\n",
      "Epoch 18, CIFAR-10 Batch 5:  The loss is: 0.0370250903069973. The valid accuracy is: 0.6891999244689941\n",
      "Epoch 19, CIFAR-10 Batch 1:  The loss is: 0.03279775381088257. The valid accuracy is: 0.7177999019622803\n",
      "Epoch 19, CIFAR-10 Batch 2:  The loss is: 0.024273764342069626. The valid accuracy is: 0.7043998837471008\n",
      "Epoch 19, CIFAR-10 Batch 3:  The loss is: 0.0257253460586071. The valid accuracy is: 0.7109998464584351\n",
      "Epoch 19, CIFAR-10 Batch 4:  The loss is: 0.014387429691851139. The valid accuracy is: 0.7011998891830444\n",
      "Epoch 19, CIFAR-10 Batch 5:  The loss is: 0.02761639468371868. The valid accuracy is: 0.6757998466491699\n",
      "Epoch 20, CIFAR-10 Batch 1:  The loss is: 0.016938626766204834. The valid accuracy is: 0.7177998423576355\n",
      "Epoch 20, CIFAR-10 Batch 2:  The loss is: 0.0019429607782512903. The valid accuracy is: 0.7147998809814453\n",
      "Epoch 20, CIFAR-10 Batch 3:  The loss is: 0.055304285138845444. The valid accuracy is: 0.6981998682022095\n",
      "Epoch 20, CIFAR-10 Batch 4:  The loss is: 0.049071453511714935. The valid accuracy is: 0.6963998079299927\n",
      "Epoch 20, CIFAR-10 Batch 5:  The loss is: 0.007512524724006653. The valid accuracy is: 0.7039998769760132\n"
     ]
    }
   ],
   "source": [
    "\"\"\"\n",
    "DON'T MODIFY ANYTHING IN THIS CELL\n",
    "\"\"\"\n",
    "save_model_path = './image_classification'\n",
    "\n",
    "print('Training...')\n",
    "with tf.Session() as sess:\n",
    "    # Initializing the variables\n",
    "    sess.run(tf.global_variables_initializer())\n",
    "    \n",
    "    # Training cycle\n",
    "    for epoch in range(epochs):\n",
    "        # Loop over all batches\n",
    "        n_batches = 5\n",
    "        for batch_i in range(1, n_batches + 1):\n",
    "            for batch_features, batch_labels in helper.load_preprocess_training_batch(batch_i, batch_size):\n",
    "                train_neural_network(sess, optimizer, keep_probability, batch_features, batch_labels)\n",
    "            print('Epoch {:>2}, CIFAR-10 Batch {}:  '.format(epoch + 1, batch_i), end='')\n",
    "            print_stats(sess, batch_features, batch_labels, cost, accuracy)\n",
    "            \n",
    "    # Save Model\n",
    "    saver = tf.train.Saver()\n",
    "    save_path = saver.save(sess, save_model_path)"
   ]
  },
  {
   "cell_type": "markdown",
   "metadata": {},
   "source": [
    "# Checkpoint\n",
    "The model has been saved to disk.\n",
    "## Test Model\n",
    "Test your model against the test dataset.  This will be your final accuracy. You should have an accuracy greater than 50%. If you don't, keep tweaking the model architecture and parameters."
   ]
  },
  {
   "cell_type": "code",
   "execution_count": null,
   "metadata": {},
   "outputs": [
    {
     "name": "stdout",
     "output_type": "stream",
     "text": [
      "INFO:tensorflow:Restoring parameters from ./image_classification\n",
      "Testing Accuracy: 0.7066082802547771\n",
      "\n"
     ]
    }
   ],
   "source": [
    "\"\"\"\n",
    "DON'T MODIFY ANYTHING IN THIS CELL\n",
    "\"\"\"\n",
    "%matplotlib inline\n",
    "%config InlineBackend.figure_format = 'retina'\n",
    "\n",
    "import tensorflow as tf\n",
    "import pickle\n",
    "import helper\n",
    "import random\n",
    "\n",
    "# Set batch size if not already set\n",
    "try:\n",
    "    if batch_size:\n",
    "        pass\n",
    "except NameError:\n",
    "    batch_size = 64\n",
    "\n",
    "save_model_path = './image_classification'\n",
    "n_samples = 4\n",
    "top_n_predictions = 3\n",
    "\n",
    "def test_model():\n",
    "    \"\"\"\n",
    "    Test the saved model against the test dataset\n",
    "    \"\"\"\n",
    "\n",
    "    test_features, test_labels = pickle.load(open('preprocess_training.p', mode='rb'))\n",
    "    loaded_graph = tf.Graph()\n",
    "\n",
    "    with tf.Session(graph=loaded_graph) as sess:\n",
    "        # Load model\n",
    "        loader = tf.train.import_meta_graph(save_model_path + '.meta')\n",
    "        loader.restore(sess, save_model_path)\n",
    "\n",
    "        # Get Tensors from loaded model\n",
    "        loaded_x = loaded_graph.get_tensor_by_name('x:0')\n",
    "        loaded_y = loaded_graph.get_tensor_by_name('y:0')\n",
    "        loaded_keep_prob = loaded_graph.get_tensor_by_name('keep_prob:0')\n",
    "        loaded_logits = loaded_graph.get_tensor_by_name('logits:0')\n",
    "        loaded_acc = loaded_graph.get_tensor_by_name('accuracy:0')\n",
    "        \n",
    "        # Get accuracy in batches for memory limitations\n",
    "        test_batch_acc_total = 0\n",
    "        test_batch_count = 0\n",
    "        \n",
    "        for train_feature_batch, train_label_batch in helper.batch_features_labels(test_features, test_labels, batch_size):\n",
    "            test_batch_acc_total += sess.run(\n",
    "                loaded_acc,\n",
    "                feed_dict={loaded_x: train_feature_batch, loaded_y: train_label_batch, loaded_keep_prob: 1.0})\n",
    "            test_batch_count += 1\n",
    "\n",
    "        print('Testing Accuracy: {}\\n'.format(test_batch_acc_total/test_batch_count))\n",
    "\n",
    "        # Print Random Samples\n",
    "        random_test_features, random_test_labels = tuple(zip(*random.sample(list(zip(test_features, test_labels)), n_samples)))\n",
    "        random_test_predictions = sess.run(\n",
    "            tf.nn.top_k(tf.nn.softmax(loaded_logits), top_n_predictions),\n",
    "            feed_dict={loaded_x: random_test_features, loaded_y: random_test_labels, loaded_keep_prob: 1.0})\n",
    "        helper.display_image_predictions(random_test_features, random_test_labels, random_test_predictions)\n",
    "\n",
    "\n",
    "test_model()"
   ]
  },
  {
   "cell_type": "markdown",
   "metadata": {},
   "source": [
    "## Why 50-70% Accuracy?\n",
    "You might be wondering why you can't get an accuracy any higher. First things first, 50% isn't bad for a simple CNN.  Pure guessing would get you 10% accuracy. However, you might notice people are getting scores [well above 70%](http://rodrigob.github.io/are_we_there_yet/build/classification_datasets_results.html#43494641522d3130).  That's because we haven't taught you all there is to know about neural networks. We still need to cover a few more techniques.\n",
    "## Submitting This Project\n",
    "When submitting this project, make sure to run all the cells before saving the notebook.  Save the notebook file as \"dlnd_image_classification.ipynb\" and save it as a HTML file under \"File\" -> \"Download as\".  Include the \"helper.py\" and \"problem_unittests.py\" files in your submission."
   ]
  }
 ],
 "metadata": {
  "kernelspec": {
   "display_name": "Python 3",
   "language": "python",
   "name": "python3"
  },
  "language_info": {
   "codemirror_mode": {
    "name": "ipython",
    "version": 3
   },
   "file_extension": ".py",
   "mimetype": "text/x-python",
   "name": "python",
   "nbconvert_exporter": "python",
   "pygments_lexer": "ipython3",
   "version": "3.5.3"
  }
 },
 "nbformat": 4,
 "nbformat_minor": 1
}
